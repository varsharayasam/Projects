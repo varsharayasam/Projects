{
 "cells": [
  {
   "cell_type": "markdown",
   "metadata": {},
   "source": [
    "This project verifies that a convolutional Neural network is better than a fully connected neural network for image classification tasks."
   ]
  },
  {
   "cell_type": "code",
   "execution_count": 1,
   "metadata": {},
   "outputs": [
    {
     "name": "stderr",
     "output_type": "stream",
     "text": [
      "2024-03-03 14:34:44.859864: I tensorflow/core/platform/cpu_feature_guard.cc:182] This TensorFlow binary is optimized to use available CPU instructions in performance-critical operations.\n",
      "To enable the following instructions: AVX2 FMA, in other operations, rebuild TensorFlow with the appropriate compiler flags.\n"
     ]
    }
   ],
   "source": [
    "#import packages here\n",
    "import tensorflow as tf\n",
    "import pandas as pd\n",
    "import numpy as np\n",
    "import matplotlib.pyplot as plt\n",
    "\n",
    "from tensorflow.keras import layers\n",
    "from sklearn.model_selection import train_test_split\n",
    "from tensorflow.keras.models import Sequential\n",
    "from tensorflow.keras.layers import Dense\n",
    "from tensorflow.keras.optimizers import Adam\n",
    "from tensorflow.keras.utils import to_categorical\n"
   ]
  },
  {
   "cell_type": "markdown",
   "metadata": {},
   "source": [
    "## Load the data"
   ]
  },
  {
   "cell_type": "code",
   "execution_count": 2,
   "metadata": {},
   "outputs": [],
   "source": [
    "from keras.datasets import mnist\n",
    "(train_X, train_y), (test_X, test_y) = mnist.load_data()"
   ]
  },
  {
   "cell_type": "markdown",
   "metadata": {},
   "source": [
    "The mnist data set is a large colelction of handwritten digits and is used for image processing.\n",
    "\n",
    "Shapes of data: X_train: (60000, 28, 28)\n",
    "Y_train: (60000,)\n",
    "X_test:  (10000, 28, 28)\n",
    "Y_test:  (10000,)\n",
    "\n",
    "There are 60k images in the training test, and the vectors of each are 28x29. "
   ]
  },
  {
   "cell_type": "code",
   "execution_count": 3,
   "metadata": {},
   "outputs": [
    {
     "name": "stdout",
     "output_type": "stream",
     "text": [
      "X_train: (60000, 28, 28)\n",
      "Y_train: (60000,)\n",
      "X_test:  (10000, 28, 28)\n",
      "Y_test:  (10000,)\n"
     ]
    }
   ],
   "source": [
    "#shapes of data\n",
    "print('X_train: ' + str(train_X.shape))\n",
    "print('Y_train: ' + str(train_y.shape))\n",
    "print('X_test:  '  + str(test_X.shape))\n",
    "print('Y_test:  '  + str(test_y.shape))\n"
   ]
  },
  {
   "cell_type": "markdown",
   "metadata": {},
   "source": [
    "## Part 1:  Use fully connected neural network to do image classification\n",
    "\n",
    "Fully connected neural networks were used to solve image classification problems before convolutional neural networks were created. It is obvious that fully connected neural network is not a good model since we are not using it for image classification. In this part, we want to verify that fully connected does not work well for image classification.\n",
    "\n",
    "### Data Preparation:\n",
    "\n",
    "Recall that the input of fully connected neural network should be a 2D numpy array where each row reprensents a data samples and each column is a feature. However, image dataset is a 3D numpy array. So, the first thing you need to do is processing your dataset.\n",
    "\n",
    "The key idea is the following: **We flatten each image (2D numpy array) to a 1D numpy array, and then stack them to a 2D numpy array. Each row should represent a flattened image**\n",
    "\n",
    "Technical hint: np.flatten https://numpy.org/doc/stable/reference/generated/numpy.ndarray.flatten.html\n",
    "\n",
    "#### Steps and Requirements:\n",
    "1. You should write a python function to process your training samples and test samples. Detailed docstrings are required to explain your inputs and outputs. In-line comments are also required to explain your code.\n",
    "\n",
    "2. Construct a fully connected neural network to train your model. You have the freedom to determine the network structure, optimizers, epochs, batch_size, activation function, initialization, and etc. **You should use markdown to explain your choices.** \n",
    "\n",
    "3. Make sure your neural network is fully trained.\n",
    "\n",
    "4. Use your model to predict test accuracy. Then please select some test images and visualize them (use subplots). For each subplot, you should use true label, predicted label and predicated probability as your xlabel. (You can go back to CNN lecture notes where I include true labels and predicted labels as xlabel. You should find a way to include probability.)\n",
    "\n",
    "#### Grading policy: \n",
    "\n",
    "Grading is based on several parts:\n",
    "1. meet above requirements\n",
    "2. correctness of code and explanation"
   ]
  },
  {
   "cell_type": "code",
   "execution_count": 9,
   "metadata": {},
   "outputs": [
    {
     "name": "stdout",
     "output_type": "stream",
     "text": [
      "Epoch 1/20\n",
      "750/750 [==============================] - 7s 7ms/step - loss: 2.5172 - accuracy: 0.8790 - val_loss: 0.6281 - val_accuracy: 0.9137\n",
      "Epoch 2/20\n",
      "750/750 [==============================] - 5s 7ms/step - loss: 0.3716 - accuracy: 0.9315 - val_loss: 0.3246 - val_accuracy: 0.9348\n",
      "Epoch 3/20\n",
      "750/750 [==============================] - 5s 7ms/step - loss: 0.2098 - accuracy: 0.9497 - val_loss: 0.2570 - val_accuracy: 0.9435\n",
      "Epoch 4/20\n",
      "750/750 [==============================] - 5s 7ms/step - loss: 0.1574 - accuracy: 0.9596 - val_loss: 0.2317 - val_accuracy: 0.9538\n",
      "Epoch 5/20\n",
      "750/750 [==============================] - 5s 7ms/step - loss: 0.1334 - accuracy: 0.9651 - val_loss: 0.2277 - val_accuracy: 0.9467\n",
      "Epoch 6/20\n",
      "750/750 [==============================] - 5s 7ms/step - loss: 0.1243 - accuracy: 0.9666 - val_loss: 0.2233 - val_accuracy: 0.9490\n",
      "Epoch 7/20\n",
      "750/750 [==============================] - 5s 7ms/step - loss: 0.1163 - accuracy: 0.9681 - val_loss: 0.1854 - val_accuracy: 0.9567\n",
      "Epoch 8/20\n",
      "750/750 [==============================] - 5s 7ms/step - loss: 0.1028 - accuracy: 0.9717 - val_loss: 0.2271 - val_accuracy: 0.9550\n",
      "Epoch 9/20\n",
      "750/750 [==============================] - 5s 7ms/step - loss: 0.0938 - accuracy: 0.9741 - val_loss: 0.1936 - val_accuracy: 0.9549\n",
      "Epoch 10/20\n",
      "750/750 [==============================] - 7s 9ms/step - loss: 0.0934 - accuracy: 0.9744 - val_loss: 0.1737 - val_accuracy: 0.9624\n",
      "Epoch 11/20\n",
      "750/750 [==============================] - 5s 7ms/step - loss: 0.0837 - accuracy: 0.9758 - val_loss: 0.1975 - val_accuracy: 0.9618\n",
      "Epoch 12/20\n",
      "750/750 [==============================] - 6s 8ms/step - loss: 0.0828 - accuracy: 0.9772 - val_loss: 0.1701 - val_accuracy: 0.9641\n",
      "Epoch 13/20\n",
      "750/750 [==============================] - 6s 8ms/step - loss: 0.0717 - accuracy: 0.9790 - val_loss: 0.1667 - val_accuracy: 0.9645\n",
      "Epoch 14/20\n",
      "750/750 [==============================] - 6s 8ms/step - loss: 0.0688 - accuracy: 0.9806 - val_loss: 0.1927 - val_accuracy: 0.9638\n",
      "Epoch 15/20\n",
      "750/750 [==============================] - 5s 7ms/step - loss: 0.0733 - accuracy: 0.9807 - val_loss: 0.1955 - val_accuracy: 0.9628\n",
      "Epoch 16/20\n",
      "750/750 [==============================] - 6s 8ms/step - loss: 0.0683 - accuracy: 0.9814 - val_loss: 0.1656 - val_accuracy: 0.9696\n",
      "Epoch 17/20\n",
      "750/750 [==============================] - 5s 7ms/step - loss: 0.0501 - accuracy: 0.9867 - val_loss: 0.2071 - val_accuracy: 0.9672\n",
      "Epoch 18/20\n",
      "750/750 [==============================] - 5s 7ms/step - loss: 0.0712 - accuracy: 0.9818 - val_loss: 0.1712 - val_accuracy: 0.9697\n",
      "Epoch 19/20\n",
      "750/750 [==============================] - 5s 7ms/step - loss: 0.0547 - accuracy: 0.9859 - val_loss: 0.1627 - val_accuracy: 0.9703\n",
      "Epoch 20/20\n",
      "750/750 [==============================] - 6s 8ms/step - loss: 0.0436 - accuracy: 0.9882 - val_loss: 0.1828 - val_accuracy: 0.9724\n",
      "313/313 [==============================] - 2s 5ms/step - loss: 0.1739 - accuracy: 0.9710\n",
      "Test Accuracy: 0.9710000157356262\n",
      "1/1 [==============================] - 0s 107ms/step\n",
      "1/1 [==============================] - 0s 30ms/step\n",
      "1/1 [==============================] - 0s 26ms/step\n",
      "1/1 [==============================] - 0s 28ms/step\n",
      "1/1 [==============================] - 0s 27ms/step\n"
     ]
    },
    {
     "data": {
      "image/png": "[encoded data removed]",
      "text/plain": [
       "<Figure size 1500x300 with 5 Axes>"
      ]
     },
     "metadata": {},
     "output_type": "display_data"
    }
   ],
   "source": [
    "# your solution here\n",
    "def flatten_images(images):\n",
    "    #this function flattens each image (2d numpy array to a 1D numpy array, and stacks to a 2d numpy array, each row represents a flattened image)\n",
    "    flattened_images= np.array([image.flatten() for image in images])\n",
    "    return flattened_images\n",
    "\n",
    "xtrainflat= flatten_images(train_X)\n",
    "xtestflat= flatten_images(test_X)\n",
    "\n",
    "#fully connected neural network model\n",
    "model= Sequential([\n",
    "    #256 arbitrary, 784 is because 28x28=784, 128 is common, and 10 because numbers go from 0-9 \n",
    "    Dense(256, input_shape=(784,), activation='relu'),\n",
    "    Dense(128, activation='relu'),\n",
    "    #used softmax function to output probabilities, ensure sum equals 1, \n",
    "    Dense(10, activation='softmax')\n",
    "])\n",
    "\n",
    "#the model with categorical cross-entropy loss\n",
    "#learning rate in adam optimizer is 0.001, chose to keep the default values \n",
    "model.compile(optimizer='adam', loss='sparse_categorical_crossentropy', metrics=['accuracy'])\n",
    "\n",
    "#train the model with integer labels\n",
    "#used 20 epochs and validation split of 0.2 because it is considered common practice, \n",
    "#20 epochs is enough to train while not being too computationally expensive\n",
    "#used a batch size of 64 because it is typical to use batch size of 64, especially with a learning rate of 0.01 (check markdown for more)\n",
    "history= model.fit(xtrainflat, train_y, epochs=20, batch_size=64, validation_split=0.2)\n",
    "\n",
    "#evaluate the model on test data\n",
    "test_loss, test_accuracy= model.evaluate(xtestflat, test_y)\n",
    "print(\"Test Accuracy:\", test_accuracy)\n",
    "\n",
    "#visualize 5 test images along with true labels, predicted labels, and predicted probabilities\n",
    "\n",
    "num_images= 5\n",
    "sample_indices= np.random.choice(len(test_X), num_images, replace=False)\n",
    "\n",
    "fig, axes= plt.subplots(1, num_images, figsize=(15, 3))\n",
    "\n",
    "for i, idx in enumerate(sample_indices):\n",
    "    test_image = test_X[idx]\n",
    "    true_label = test_y[idx]\n",
    "    test_image_flattened = xtestflat[idx]\n",
    "    \n",
    "    #predict\n",
    "    predicted_probabilities = model.predict(np.expand_dims(test_image_flattened, axis=0))\n",
    "    predicted_label = np.argmax(predicted_probabilities)\n",
    "    \n",
    "    axes[i].imshow(test_image, cmap='gray')\n",
    "    axes[i].set_title(f\"True Label: {true_label}\\nPredicted Label: {predicted_label}\\nPredicted Probability: {predicted_probabilities[0][predicted_label]:.4f}\")\n",
    "    axes[i].axis('off')\n",
    "\n",
    "plt.show()\n",
    "#as number of epochs increases, loss decreases while accuracy increases\n"
   ]
  },
  {
   "cell_type": "code",
   "execution_count": null,
   "metadata": {},
   "outputs": [],
   "source": []
  },
  {
   "cell_type": "markdown",
   "metadata": {},
   "source": [
    "To complete part 1, I created a function that flattens the images, according to the technical hint. 256 neurons provides the model with enough capacity to learn complex patterns and representations from the input data. With more neurons, the model can capture a wider range of features and relationships, potentially leading to better performance. The 784 comes from 28x28 pixels for input features. 128 neurons is also arbitrary and provides the model with enough capacity to learn complex patterns from input data. 10 neurons were chosen because there are 10 digits. \n",
    "\n",
    "In the adam optimizer, I stuck with the default learning rate of 0.001 because it seemed like common practice from notes and other sources. \n",
    "\n",
    "I used 20 epochs and validation split of 0.2 because it is considered common practice, specifically because 20 epochs is enough to train while not being too computationally expensive, and validation split of 80% train and 20% validating data is a good split to train and validate. \n",
    "I used a batch size of 64 because it is typical to use batch size of 64, especially with a learning rate of 0.01. In this medium article, I found that the lower the batch sizes, the better the accuracy, however it also depends on the learning rate: https://medium.com/geekculture/how-does-batch-size-impact-your-model-learning-2dd34d9fb1fa\n",
    "\n",
    "To train this, it did not take an extremely long time and the probabilites are close to 1. Loss gets really close to 0 and accuracy is about 0.97."
   ]
  },
  {
   "cell_type": "markdown",
   "metadata": {},
   "source": [
    "# Part 2: Convolutional Neural Network for image classification \n",
    "\n",
    "In this part, we will use convolution neural network to repeat image classification problem. \n",
    "\n",
    "#### Requirements:\n",
    "1. You should construct a convolutional neural network. You have the freedom to determine the network structure, optimizers, epochs, batch_size, activation function, initialization, and etc. **You should use markdown to explain your choices.** \n",
    "\n",
    "2. You should try different tricks to increase prediction accuracy. \n",
    "\n",
    "3. Make sure your convolutional neural network is fully trained.\n",
    "\n",
    "4. After training your model, you should test your model on test dataset. You should make the test accuracy higher than 93%. Low test accuracy will lead to grade deduction.\n",
    "\n",
    "5. Use your model to predict test accuracy. Then please select some test images and visualize them (use subplots). For each subplot, you should use true label, predicted label and predicated probability as your xlabel. (You can go back to CNN lecture notes where I include true labels and predicted labels as xlabel. You should find a way to include probability.)\n",
    "\n",
    "6. Explain your code and result using in-line comments and markdown. Lack of words will lead to a huge amout of deduction.\n",
    "\n",
    "\n",
    "\n",
    "#### Grading policy: \n",
    "\n",
    "Grading is based on several parts:\n",
    "1. meet above requirements \n",
    "2. correctness of code and explanation\n"
   ]
  },
  {
   "cell_type": "code",
   "execution_count": 4,
   "metadata": {},
   "outputs": [
    {
     "name": "stdout",
     "output_type": "stream",
     "text": [
      "Epoch 1/10\n",
      "750/750 [==============================] - 45s 57ms/step - loss: 0.5225 - accuracy: 0.9348 - val_loss: 0.0968 - val_accuracy: 0.9705\n",
      "Epoch 2/10\n",
      "750/750 [==============================] - 43s 57ms/step - loss: 0.0664 - accuracy: 0.9796 - val_loss: 0.0722 - val_accuracy: 0.9797\n",
      "Epoch 3/10\n",
      "750/750 [==============================] - 44s 58ms/step - loss: 0.0384 - accuracy: 0.9879 - val_loss: 0.0731 - val_accuracy: 0.9802\n",
      "Epoch 4/10\n",
      "750/750 [==============================] - 44s 59ms/step - loss: 0.0346 - accuracy: 0.9886 - val_loss: 0.0672 - val_accuracy: 0.9843\n",
      "Epoch 5/10\n",
      "750/750 [==============================] - 45s 61ms/step - loss: 0.0274 - accuracy: 0.9914 - val_loss: 0.0785 - val_accuracy: 0.9817\n",
      "Epoch 6/10\n",
      "750/750 [==============================] - 48s 64ms/step - loss: 0.0287 - accuracy: 0.9912 - val_loss: 0.0621 - val_accuracy: 0.9866\n",
      "Epoch 7/10\n",
      "750/750 [==============================] - 45s 60ms/step - loss: 0.0262 - accuracy: 0.9920 - val_loss: 0.0609 - val_accuracy: 0.9856\n",
      "Epoch 8/10\n",
      "750/750 [==============================] - 43s 57ms/step - loss: 0.0211 - accuracy: 0.9929 - val_loss: 0.0641 - val_accuracy: 0.9854\n",
      "Epoch 9/10\n",
      "750/750 [==============================] - 45s 60ms/step - loss: 0.0197 - accuracy: 0.9938 - val_loss: 0.0731 - val_accuracy: 0.9840\n",
      "Epoch 10/10\n",
      "750/750 [==============================] - 45s 60ms/step - loss: 0.0180 - accuracy: 0.9944 - val_loss: 0.0825 - val_accuracy: 0.9842\n",
      "313/313 [==============================] - 3s 9ms/step - loss: 0.0745 - accuracy: 0.9828\n",
      "Test Accuracy: 0.9828000068664551\n",
      "1/1 [==============================] - 0s 166ms/step\n",
      "1/1 [==============================] - 0s 31ms/step\n",
      "1/1 [==============================] - 0s 32ms/step\n",
      "1/1 [==============================] - 0s 34ms/step\n",
      "1/1 [==============================] - 0s 33ms/step\n"
     ]
    },
    {
     "data": {
      "image/png": "[encoded data removed]",
      "text/plain": [
       "<Figure size 1500x300 with 5 Axes>"
      ]
     },
     "metadata": {},
     "output_type": "display_data"
    }
   ],
   "source": [
    "#CNN \n",
    "from tensorflow.keras.layers import Conv2D, MaxPooling2D, Flatten, Dense, Dropout\n",
    "from tensorflow.keras.optimizers import Adam\n",
    "from tensorflow.keras.losses import CategoricalCrossentropy\n",
    "from tensorflow.keras.utils import to_categorical\n",
    "\n",
    "model = Sequential([\n",
    "    #chose 32 because arbitrary and common, kernel size of 3x3 because 5x5 too big, and 1x1 too small\n",
    "    Conv2D(32, kernel_size=(3, 3), activation='relu', input_shape=(28, 28, 1)),\n",
    "    #balancing between computational efficiency and retaining important features\n",
    "    MaxPooling2D(pool_size=(2, 2)),\n",
    "    #doubled nuerons\n",
    "    Conv2D(64, kernel_size=(3, 3), activation='relu'),\n",
    "    MaxPooling2D(pool_size=(2, 2)),\n",
    "    #convert 3d tensor into 1d vector\n",
    "    Flatten(),\n",
    "    #doubled nuerons again\n",
    "    Dense(128, activation='relu'),\n",
    "    #10 digits\n",
    "    Dense(10, activation='softmax')\n",
    "])\n",
    "\n",
    "#compile the model using adam optimizer, kept default arguments, categoricalcrossentropy loss \n",
    "model.compile(optimizer=Adam(), loss=CategoricalCrossentropy(), metrics=['accuracy'])\n",
    "\n",
    "#train the model\n",
    "#80% training data 20% validation data because it is good split to between training and validating\n",
    "#20 epochs because enough to train but not too computationally expensive. took a long time to run with 20 epochs (20 mins)\n",
    "#history= model.fit(train_X, to_categorical(train_y), epochs=20, batch_size=64, validation_split=0.2)\n",
    "#tried with epoch=10, only took 7 mins but slightly less training accuracy\n",
    "history= model.fit(train_X, to_categorical(train_y), epochs=10, batch_size=64, validation_split=0.2)\n",
    "\n",
    "#evaluate the model on test data\n",
    "test_loss, test_accuracy = model.evaluate(test_X, to_categorical(test_y))\n",
    "print(\"Test Accuracy:\", test_accuracy)\n",
    "\n",
    "#visualize some test images along with true labels, predicted labels, and predicted probabilities\n",
    "num_images_to_visualize= 5\n",
    "sample_indices= np.random.choice(len(test_X), num_images_to_visualize, replace=False)\n",
    "\n",
    "fig, axes = plt.subplots(1, num_images_to_visualize, figsize=(15, 3))\n",
    "\n",
    "for i, idx in enumerate(sample_indices):\n",
    "    test_image= test_X[idx]\n",
    "    true_label= test_y[idx]\n",
    "    \n",
    "    #predict probabilities\n",
    "    predicted_probabilities = model.predict(np.expand_dims(test_image, axis=0))\n",
    "    predicted_label = np.argmax(predicted_probabilities)\n",
    "    \n",
    "    axes[i].imshow(test_image.squeeze(), cmap='gray')\n",
    "    axes[i].set_title(f\"True Label: {true_label}\\nPredicted Label: {predicted_label}\\nPredicted Probability: {predicted_probabilities[0][predicted_label]:.4f}\")\n",
    "    axes[i].axis('off')\n",
    "\n",
    "plt.show()\n"
   ]
  },
  {
   "cell_type": "markdown",
   "metadata": {},
   "source": [
    "I chose 32 neurons because it seems like standard practice according to the notes and other resources. I picked a kernel size of 3x3 because it 1x1 seems to small and 5x5 is too big of a kernzel size. The input shape is 28,28,1 because those are the dimensions of the image. I chose a pool size of 2,2 to make it more computationally efficient through the downsizing effect. I doubled the neurons as part of common practice with CNN to capture a wide range of features. It does computationally cost more, however the results are good. \n",
    "\n",
    "While training the model, I did a 0.2 validation split again because 80% training data 20% validation data because it is good split to between training and validating.\n",
    "I used 20 epochs again because it is enough to train but not too computationally expensive, however it took a long time to run with 20 epochs (20 mins)\n",
    "When I tried with 10, it only took 7 minutes to run but slightly less training accuracy, however the test accuracy was still in the 0.98 range. \n"
   ]
  }
 ],
 "metadata": {
  "kernelspec": {
   "display_name": "Python 3",
   "language": "python",
   "name": "python3"
  },
  "language_info": {
   "codemirror_mode": {
    "name": "ipython",
    "version": 3
   },
   "file_extension": ".py",
   "mimetype": "text/x-python",
   "name": "python",
   "nbconvert_exporter": "python",
   "pygments_lexer": "ipython3",
   "version": "3.9.18"
  }
 },
 "nbformat": 4,
 "nbformat_minor": 4
}
