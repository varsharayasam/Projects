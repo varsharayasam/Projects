{
  "cells": [
    {
      "cell_type": "markdown",
      "metadata": {
        "id": "3B8pDyQHcQYs"
      },
      "source": [
        "# Pic16b Final Project by Samantha Wong and Varsha Rayasam\n",
        "- The goal of our project was to use machine learning to predict prognoses for patients (ie. Lyme disease, Zika, etc), using the presence or lack of symptoms (ie. nose bleed, rash, headache, etc). We tried using a KNN model that would predict 1 prognosis and a LightGBM decision tree model that would predict the likelihoods that a patient would have each disease. We took the highest 3 probablities and used a MAP@k metric to assess the accuracy of the modeL"
      ]
    },
    {
      "cell_type": "code",
      "execution_count": null,
      "metadata": {
        "id": "u2ig-TLWt4LV"
      },
      "outputs": [],
      "source": [
        "#if on colab need to pip install prince, then restart session to run"
      ]
    },
    {
      "cell_type": "code",
      "execution_count": null,
      "metadata": {
        "id": "i_mzV-Je2-WL"
      },
      "outputs": [],
      "source": [
        "#pip install prince\n"
      ]
    },
    {
      "cell_type": "code",
      "execution_count": 3,
      "metadata": {
        "id": "8pXUL6yWuhKl"
      },
      "outputs": [],
      "source": [
        "import numpy as np\n",
        "import pandas as pd\n",
        "import seaborn as sns\n",
        "import matplotlib.pyplot as plt\n",
        "from sklearn.model_selection import train_test_split\n",
        "import lightgbm as lgb\n",
        "from sklearn.preprocessing import LabelEncoder\n",
        "import pandas as pd\n",
        "from sklearn.metrics import accuracy_score\n",
        "from sklearn.preprocessing import StandardScaler\n",
        "import prince\n",
        "import plotly.express as px\n",
        "from sklearn.neighbors import KNeighborsClassifier\n",
        "from sklearn.metrics import accuracy_score, confusion_matrix\n",
        "from sklearn.preprocessing import StandardScaler\n",
        "from sklearn.preprocessing import MinMaxScaler\n",
        "from sklearn.preprocessing import LabelEncoder"
      ]
    },
    {
      "cell_type": "markdown",
      "metadata": {
        "id": "QbkmyqK26URM"
      },
      "source": [
        "# **Pre-Processing Data**\n",
        "- Our training data is comprised of 707 instances, with 66 columns. 1 of these features is the \"ID\" number of the instance, which is useless for training our model, so it will later be dropped. 65 of the columns are features that are associated with a symptom (ie. nose bleed, rash, headache, etc). All of these features are in binary meaning that if they were present in the patient then there is a 1 in that column and not present then a 0. The last column is the prognosis of the patient (ie. Lyme disease, Zika, etc). This will be split off from the training data and used for y-vales (what we are trying to predict). The test data does not have this last prognosis (y-value) column, so it was not used to train or access the model, but the predictions made from the models with the test data are shown at the end"
      ]
    },
    {
      "cell_type": "code",
      "execution_count": 5,
      "metadata": {
        "id": "uGUwMd_EurFD"
      },
      "outputs": [],
      "source": [
        "train = pd.read_csv('/Users/srivarsharayasam/Downloads/pic16bproj/train.csv')\n",
        "\n",
        "#test data does not have y values, so train is split into validation\n",
        "test = pd.read_csv(\"/Users/srivarsharayasam/Downloads/pic16bproj/test.csv\")"
      ]
    },
    {
      "cell_type": "code",
      "execution_count": null,
      "metadata": {
        "colab": {
          "base_uri": "https://localhost:8080/",
          "height": 444
        },
        "id": "Vd1Wv9xptNT9",
        "outputId": "b65cd7b9-0578-4174-c8fe-7e96424765ce"
      },
      "outputs": [
        {
          "data": {
            "application/vnd.google.colaboratory.intrinsic+json": {
              "type": "dataframe",
              "variable_name": "train"
            },
            "text/html": [
              "\n",
              "  <div id=\"df-3b3ed7db-4cb3-457f-9bce-859f62656af5\" class=\"colab-df-container\">\n",
              "    <div>\n",
              "<style scoped>\n",
              "    .dataframe tbody tr th:only-of-type {\n",
              "        vertical-align: middle;\n",
              "    }\n",
              "\n",
              "    .dataframe tbody tr th {\n",
              "        vertical-align: top;\n",
              "    }\n",
              "\n",
              "    .dataframe thead th {\n",
              "        text-align: right;\n",
              "    }\n",
              "</style>\n",
              "<table border=\"1\" class=\"dataframe\">\n",
              "  <thead>\n",
              "    <tr style=\"text-align: right;\">\n",
              "      <th></th>\n",
              "      <th>id</th>\n",
              "      <th>sudden_fever</th>\n",
              "      <th>headache</th>\n",
              "      <th>mouth_bleed</th>\n",
              "      <th>nose_bleed</th>\n",
              "      <th>muscle_pain</th>\n",
              "      <th>joint_pain</th>\n",
              "      <th>vomiting</th>\n",
              "      <th>rash</th>\n",
              "      <th>diarrhea</th>\n",
              "      <th>...</th>\n",
              "      <th>breathing_restriction</th>\n",
              "      <th>toe_inflammation</th>\n",
              "      <th>finger_inflammation</th>\n",
              "      <th>lips_irritation</th>\n",
              "      <th>itchiness</th>\n",
              "      <th>ulcers</th>\n",
              "      <th>toenail_loss</th>\n",
              "      <th>speech_problem</th>\n",
              "      <th>bullseye_rash</th>\n",
              "      <th>prognosis</th>\n",
              "    </tr>\n",
              "  </thead>\n",
              "  <tbody>\n",
              "    <tr>\n",
              "      <th>0</th>\n",
              "      <td>0</td>\n",
              "      <td>1.0</td>\n",
              "      <td>1.0</td>\n",
              "      <td>0.0</td>\n",
              "      <td>1.0</td>\n",
              "      <td>1.0</td>\n",
              "      <td>1.0</td>\n",
              "      <td>1.0</td>\n",
              "      <td>0.0</td>\n",
              "      <td>1.0</td>\n",
              "      <td>...</td>\n",
              "      <td>0.0</td>\n",
              "      <td>0.0</td>\n",
              "      <td>0.0</td>\n",
              "      <td>0.0</td>\n",
              "      <td>0.0</td>\n",
              "      <td>0.0</td>\n",
              "      <td>0.0</td>\n",
              "      <td>0.0</td>\n",
              "      <td>0.0</td>\n",
              "      <td>Lyme_disease</td>\n",
              "    </tr>\n",
              "    <tr>\n",
              "      <th>1</th>\n",
              "      <td>1</td>\n",
              "      <td>0.0</td>\n",
              "      <td>0.0</td>\n",
              "      <td>0.0</td>\n",
              "      <td>0.0</td>\n",
              "      <td>0.0</td>\n",
              "      <td>0.0</td>\n",
              "      <td>1.0</td>\n",
              "      <td>0.0</td>\n",
              "      <td>1.0</td>\n",
              "      <td>...</td>\n",
              "      <td>0.0</td>\n",
              "      <td>0.0</td>\n",
              "      <td>0.0</td>\n",
              "      <td>0.0</td>\n",
              "      <td>0.0</td>\n",
              "      <td>0.0</td>\n",
              "      <td>0.0</td>\n",
              "      <td>0.0</td>\n",
              "      <td>0.0</td>\n",
              "      <td>Tungiasis</td>\n",
              "    </tr>\n",
              "    <tr>\n",
              "      <th>2</th>\n",
              "      <td>2</td>\n",
              "      <td>0.0</td>\n",
              "      <td>1.0</td>\n",
              "      <td>1.0</td>\n",
              "      <td>1.0</td>\n",
              "      <td>0.0</td>\n",
              "      <td>1.0</td>\n",
              "      <td>1.0</td>\n",
              "      <td>1.0</td>\n",
              "      <td>1.0</td>\n",
              "      <td>...</td>\n",
              "      <td>1.0</td>\n",
              "      <td>1.0</td>\n",
              "      <td>1.0</td>\n",
              "      <td>1.0</td>\n",
              "      <td>1.0</td>\n",
              "      <td>0.0</td>\n",
              "      <td>1.0</td>\n",
              "      <td>1.0</td>\n",
              "      <td>1.0</td>\n",
              "      <td>Lyme_disease</td>\n",
              "    </tr>\n",
              "    <tr>\n",
              "      <th>3</th>\n",
              "      <td>3</td>\n",
              "      <td>0.0</td>\n",
              "      <td>0.0</td>\n",
              "      <td>1.0</td>\n",
              "      <td>1.0</td>\n",
              "      <td>1.0</td>\n",
              "      <td>1.0</td>\n",
              "      <td>0.0</td>\n",
              "      <td>1.0</td>\n",
              "      <td>0.0</td>\n",
              "      <td>...</td>\n",
              "      <td>0.0</td>\n",
              "      <td>0.0</td>\n",
              "      <td>0.0</td>\n",
              "      <td>0.0</td>\n",
              "      <td>0.0</td>\n",
              "      <td>0.0</td>\n",
              "      <td>0.0</td>\n",
              "      <td>0.0</td>\n",
              "      <td>0.0</td>\n",
              "      <td>Zika</td>\n",
              "    </tr>\n",
              "    <tr>\n",
              "      <th>4</th>\n",
              "      <td>4</td>\n",
              "      <td>0.0</td>\n",
              "      <td>0.0</td>\n",
              "      <td>0.0</td>\n",
              "      <td>0.0</td>\n",
              "      <td>0.0</td>\n",
              "      <td>0.0</td>\n",
              "      <td>0.0</td>\n",
              "      <td>0.0</td>\n",
              "      <td>1.0</td>\n",
              "      <td>...</td>\n",
              "      <td>0.0</td>\n",
              "      <td>1.0</td>\n",
              "      <td>0.0</td>\n",
              "      <td>0.0</td>\n",
              "      <td>1.0</td>\n",
              "      <td>1.0</td>\n",
              "      <td>1.0</td>\n",
              "      <td>0.0</td>\n",
              "      <td>0.0</td>\n",
              "      <td>Rift_Valley_fever</td>\n",
              "    </tr>\n",
              "    <tr>\n",
              "      <th>...</th>\n",
              "      <td>...</td>\n",
              "      <td>...</td>\n",
              "      <td>...</td>\n",
              "      <td>...</td>\n",
              "      <td>...</td>\n",
              "      <td>...</td>\n",
              "      <td>...</td>\n",
              "      <td>...</td>\n",
              "      <td>...</td>\n",
              "      <td>...</td>\n",
              "      <td>...</td>\n",
              "      <td>...</td>\n",
              "      <td>...</td>\n",
              "      <td>...</td>\n",
              "      <td>...</td>\n",
              "      <td>...</td>\n",
              "      <td>...</td>\n",
              "      <td>...</td>\n",
              "      <td>...</td>\n",
              "      <td>...</td>\n",
              "      <td>...</td>\n",
              "    </tr>\n",
              "    <tr>\n",
              "      <th>702</th>\n",
              "      <td>702</td>\n",
              "      <td>0.0</td>\n",
              "      <td>0.0</td>\n",
              "      <td>1.0</td>\n",
              "      <td>1.0</td>\n",
              "      <td>1.0</td>\n",
              "      <td>0.0</td>\n",
              "      <td>0.0</td>\n",
              "      <td>0.0</td>\n",
              "      <td>0.0</td>\n",
              "      <td>...</td>\n",
              "      <td>0.0</td>\n",
              "      <td>0.0</td>\n",
              "      <td>0.0</td>\n",
              "      <td>0.0</td>\n",
              "      <td>0.0</td>\n",
              "      <td>0.0</td>\n",
              "      <td>0.0</td>\n",
              "      <td>0.0</td>\n",
              "      <td>0.0</td>\n",
              "      <td>Plague</td>\n",
              "    </tr>\n",
              "    <tr>\n",
              "      <th>703</th>\n",
              "      <td>703</td>\n",
              "      <td>1.0</td>\n",
              "      <td>0.0</td>\n",
              "      <td>1.0</td>\n",
              "      <td>1.0</td>\n",
              "      <td>1.0</td>\n",
              "      <td>1.0</td>\n",
              "      <td>0.0</td>\n",
              "      <td>1.0</td>\n",
              "      <td>1.0</td>\n",
              "      <td>...</td>\n",
              "      <td>0.0</td>\n",
              "      <td>0.0</td>\n",
              "      <td>0.0</td>\n",
              "      <td>0.0</td>\n",
              "      <td>0.0</td>\n",
              "      <td>0.0</td>\n",
              "      <td>0.0</td>\n",
              "      <td>0.0</td>\n",
              "      <td>0.0</td>\n",
              "      <td>Malaria</td>\n",
              "    </tr>\n",
              "    <tr>\n",
              "      <th>704</th>\n",
              "      <td>704</td>\n",
              "      <td>1.0</td>\n",
              "      <td>0.0</td>\n",
              "      <td>1.0</td>\n",
              "      <td>0.0</td>\n",
              "      <td>1.0</td>\n",
              "      <td>0.0</td>\n",
              "      <td>0.0</td>\n",
              "      <td>1.0</td>\n",
              "      <td>1.0</td>\n",
              "      <td>...</td>\n",
              "      <td>0.0</td>\n",
              "      <td>0.0</td>\n",
              "      <td>0.0</td>\n",
              "      <td>0.0</td>\n",
              "      <td>0.0</td>\n",
              "      <td>0.0</td>\n",
              "      <td>0.0</td>\n",
              "      <td>0.0</td>\n",
              "      <td>0.0</td>\n",
              "      <td>Zika</td>\n",
              "    </tr>\n",
              "    <tr>\n",
              "      <th>705</th>\n",
              "      <td>705</td>\n",
              "      <td>1.0</td>\n",
              "      <td>1.0</td>\n",
              "      <td>0.0</td>\n",
              "      <td>0.0</td>\n",
              "      <td>1.0</td>\n",
              "      <td>0.0</td>\n",
              "      <td>1.0</td>\n",
              "      <td>0.0</td>\n",
              "      <td>1.0</td>\n",
              "      <td>...</td>\n",
              "      <td>1.0</td>\n",
              "      <td>1.0</td>\n",
              "      <td>1.0</td>\n",
              "      <td>1.0</td>\n",
              "      <td>0.0</td>\n",
              "      <td>0.0</td>\n",
              "      <td>0.0</td>\n",
              "      <td>0.0</td>\n",
              "      <td>0.0</td>\n",
              "      <td>Plague</td>\n",
              "    </tr>\n",
              "    <tr>\n",
              "      <th>706</th>\n",
              "      <td>706</td>\n",
              "      <td>1.0</td>\n",
              "      <td>1.0</td>\n",
              "      <td>0.0</td>\n",
              "      <td>0.0</td>\n",
              "      <td>0.0</td>\n",
              "      <td>0.0</td>\n",
              "      <td>1.0</td>\n",
              "      <td>0.0</td>\n",
              "      <td>0.0</td>\n",
              "      <td>...</td>\n",
              "      <td>0.0</td>\n",
              "      <td>0.0</td>\n",
              "      <td>0.0</td>\n",
              "      <td>0.0</td>\n",
              "      <td>1.0</td>\n",
              "      <td>1.0</td>\n",
              "      <td>1.0</td>\n",
              "      <td>0.0</td>\n",
              "      <td>0.0</td>\n",
              "      <td>Tungiasis</td>\n",
              "    </tr>\n",
              "  </tbody>\n",
              "</table>\n",
              "<p>707 rows × 66 columns</p>\n",
              "</div>\n",
              "    <div class=\"colab-df-buttons\">\n",
              "\n",
              "  <div class=\"colab-df-container\">\n",
              "    <button class=\"colab-df-convert\" onclick=\"convertToInteractive('df-3b3ed7db-4cb3-457f-9bce-859f62656af5')\"\n",
              "            title=\"Convert this dataframe to an interactive table.\"\n",
              "            style=\"display:none;\">\n",
              "\n",
              "  <svg xmlns=\"http://www.w3.org/2000/svg\" height=\"24px\" viewBox=\"0 -960 960 960\">\n",
              "    <path d=\"M120-120v-720h720v720H120Zm60-500h600v-160H180v160Zm220 220h160v-160H400v160Zm0 220h160v-160H400v160ZM180-400h160v-160H180v160Zm440 0h160v-160H620v160ZM180-180h160v-160H180v160Zm440 0h160v-160H620v160Z\"/>\n",
              "  </svg>\n",
              "    </button>\n",
              "\n",
              "  <style>\n",
              "    .colab-df-container {\n",
              "      display:flex;\n",
              "      gap: 12px;\n",
              "    }\n",
              "\n",
              "    .colab-df-convert {\n",
              "      background-color: #E8F0FE;\n",
              "      border: none;\n",
              "      border-radius: 50%;\n",
              "      cursor: pointer;\n",
              "      display: none;\n",
              "      fill: #1967D2;\n",
              "      height: 32px;\n",
              "      padding: 0 0 0 0;\n",
              "      width: 32px;\n",
              "    }\n",
              "\n",
              "    .colab-df-convert:hover {\n",
              "      background-color: #E2EBFA;\n",
              "      box-shadow: 0px 1px 2px rgba(60, 64, 67, 0.3), 0px 1px 3px 1px rgba(60, 64, 67, 0.15);\n",
              "      fill: #174EA6;\n",
              "    }\n",
              "\n",
              "    .colab-df-buttons div {\n",
              "      margin-bottom: 4px;\n",
              "    }\n",
              "\n",
              "    [theme=dark] .colab-df-convert {\n",
              "      background-color: #3B4455;\n",
              "      fill: #D2E3FC;\n",
              "    }\n",
              "\n",
              "    [theme=dark] .colab-df-convert:hover {\n",
              "      background-color: #434B5C;\n",
              "      box-shadow: 0px 1px 3px 1px rgba(0, 0, 0, 0.15);\n",
              "      filter: drop-shadow(0px 1px 2px rgba(0, 0, 0, 0.3));\n",
              "      fill: #FFFFFF;\n",
              "    }\n",
              "  </style>\n",
              "\n",
              "    <script>\n",
              "      const buttonEl =\n",
              "        document.querySelector('#df-3b3ed7db-4cb3-457f-9bce-859f62656af5 button.colab-df-convert');\n",
              "      buttonEl.style.display =\n",
              "        google.colab.kernel.accessAllowed ? 'block' : 'none';\n",
              "\n",
              "      async function convertToInteractive(key) {\n",
              "        const element = document.querySelector('#df-3b3ed7db-4cb3-457f-9bce-859f62656af5');\n",
              "        const dataTable =\n",
              "          await google.colab.kernel.invokeFunction('convertToInteractive',\n",
              "                                                    [key], {});\n",
              "        if (!dataTable) return;\n",
              "\n",
              "        const docLinkHtml = 'Like what you see? Visit the ' +\n",
              "          '<a target=\"_blank\" href=https://colab.research.google.com/notebooks/data_table.ipynb>data table notebook</a>'\n",
              "          + ' to learn more about interactive tables.';\n",
              "        element.innerHTML = '';\n",
              "        dataTable['output_type'] = 'display_data';\n",
              "        await google.colab.output.renderOutput(dataTable, element);\n",
              "        const docLink = document.createElement('div');\n",
              "        docLink.innerHTML = docLinkHtml;\n",
              "        element.appendChild(docLink);\n",
              "      }\n",
              "    </script>\n",
              "  </div>\n",
              "\n",
              "\n",
              "<div id=\"df-9eda7e74-ae34-4025-bd16-e95a72a8ec94\">\n",
              "  <button class=\"colab-df-quickchart\" onclick=\"quickchart('df-9eda7e74-ae34-4025-bd16-e95a72a8ec94')\"\n",
              "            title=\"Suggest charts\"\n",
              "            style=\"display:none;\">\n",
              "\n",
              "<svg xmlns=\"http://www.w3.org/2000/svg\" height=\"24px\"viewBox=\"0 0 24 24\"\n",
              "     width=\"24px\">\n",
              "    <g>\n",
              "        <path d=\"M19 3H5c-1.1 0-2 .9-2 2v14c0 1.1.9 2 2 2h14c1.1 0 2-.9 2-2V5c0-1.1-.9-2-2-2zM9 17H7v-7h2v7zm4 0h-2V7h2v10zm4 0h-2v-4h2v4z\"/>\n",
              "    </g>\n",
              "</svg>\n",
              "  </button>\n",
              "\n",
              "<style>\n",
              "  .colab-df-quickchart {\n",
              "      --bg-color: #E8F0FE;\n",
              "      --fill-color: #1967D2;\n",
              "      --hover-bg-color: #E2EBFA;\n",
              "      --hover-fill-color: #174EA6;\n",
              "      --disabled-fill-color: #AAA;\n",
              "      --disabled-bg-color: #DDD;\n",
              "  }\n",
              "\n",
              "  [theme=dark] .colab-df-quickchart {\n",
              "      --bg-color: #3B4455;\n",
              "      --fill-color: #D2E3FC;\n",
              "      --hover-bg-color: #434B5C;\n",
              "      --hover-fill-color: #FFFFFF;\n",
              "      --disabled-bg-color: #3B4455;\n",
              "      --disabled-fill-color: #666;\n",
              "  }\n",
              "\n",
              "  .colab-df-quickchart {\n",
              "    background-color: var(--bg-color);\n",
              "    border: none;\n",
              "    border-radius: 50%;\n",
              "    cursor: pointer;\n",
              "    display: none;\n",
              "    fill: var(--fill-color);\n",
              "    height: 32px;\n",
              "    padding: 0;\n",
              "    width: 32px;\n",
              "  }\n",
              "\n",
              "  .colab-df-quickchart:hover {\n",
              "    background-color: var(--hover-bg-color);\n",
              "    box-shadow: 0 1px 2px rgba(60, 64, 67, 0.3), 0 1px 3px 1px rgba(60, 64, 67, 0.15);\n",
              "    fill: var(--button-hover-fill-color);\n",
              "  }\n",
              "\n",
              "  .colab-df-quickchart-complete:disabled,\n",
              "  .colab-df-quickchart-complete:disabled:hover {\n",
              "    background-color: var(--disabled-bg-color);\n",
              "    fill: var(--disabled-fill-color);\n",
              "    box-shadow: none;\n",
              "  }\n",
              "\n",
              "  .colab-df-spinner {\n",
              "    border: 2px solid var(--fill-color);\n",
              "    border-color: transparent;\n",
              "    border-bottom-color: var(--fill-color);\n",
              "    animation:\n",
              "      spin 1s steps(1) infinite;\n",
              "  }\n",
              "\n",
              "  @keyframes spin {\n",
              "    0% {\n",
              "      border-color: transparent;\n",
              "      border-bottom-color: var(--fill-color);\n",
              "      border-left-color: var(--fill-color);\n",
              "    }\n",
              "    20% {\n",
              "      border-color: transparent;\n",
              "      border-left-color: var(--fill-color);\n",
              "      border-top-color: var(--fill-color);\n",
              "    }\n",
              "    30% {\n",
              "      border-color: transparent;\n",
              "      border-left-color: var(--fill-color);\n",
              "      border-top-color: var(--fill-color);\n",
              "      border-right-color: var(--fill-color);\n",
              "    }\n",
              "    40% {\n",
              "      border-color: transparent;\n",
              "      border-right-color: var(--fill-color);\n",
              "      border-top-color: var(--fill-color);\n",
              "    }\n",
              "    60% {\n",
              "      border-color: transparent;\n",
              "      border-right-color: var(--fill-color);\n",
              "    }\n",
              "    80% {\n",
              "      border-color: transparent;\n",
              "      border-right-color: var(--fill-color);\n",
              "      border-bottom-color: var(--fill-color);\n",
              "    }\n",
              "    90% {\n",
              "      border-color: transparent;\n",
              "      border-bottom-color: var(--fill-color);\n",
              "    }\n",
              "  }\n",
              "</style>\n",
              "\n",
              "  <script>\n",
              "    async function quickchart(key) {\n",
              "      const quickchartButtonEl =\n",
              "        document.querySelector('#' + key + ' button');\n",
              "      quickchartButtonEl.disabled = true;  // To prevent multiple clicks.\n",
              "      quickchartButtonEl.classList.add('colab-df-spinner');\n",
              "      try {\n",
              "        const charts = await google.colab.kernel.invokeFunction(\n",
              "            'suggestCharts', [key], {});\n",
              "      } catch (error) {\n",
              "        console.error('Error during call to suggestCharts:', error);\n",
              "      }\n",
              "      quickchartButtonEl.classList.remove('colab-df-spinner');\n",
              "      quickchartButtonEl.classList.add('colab-df-quickchart-complete');\n",
              "    }\n",
              "    (() => {\n",
              "      let quickchartButtonEl =\n",
              "        document.querySelector('#df-9eda7e74-ae34-4025-bd16-e95a72a8ec94 button');\n",
              "      quickchartButtonEl.style.display =\n",
              "        google.colab.kernel.accessAllowed ? 'block' : 'none';\n",
              "    })();\n",
              "  </script>\n",
              "</div>\n",
              "    </div>\n",
              "  </div>\n"
            ],
            "text/plain": [
              "      id  sudden_fever  headache  mouth_bleed  nose_bleed  muscle_pain  \\\n",
              "0      0           1.0       1.0          0.0         1.0          1.0   \n",
              "1      1           0.0       0.0          0.0         0.0          0.0   \n",
              "2      2           0.0       1.0          1.0         1.0          0.0   \n",
              "3      3           0.0       0.0          1.0         1.0          1.0   \n",
              "4      4           0.0       0.0          0.0         0.0          0.0   \n",
              "..   ...           ...       ...          ...         ...          ...   \n",
              "702  702           0.0       0.0          1.0         1.0          1.0   \n",
              "703  703           1.0       0.0          1.0         1.0          1.0   \n",
              "704  704           1.0       0.0          1.0         0.0          1.0   \n",
              "705  705           1.0       1.0          0.0         0.0          1.0   \n",
              "706  706           1.0       1.0          0.0         0.0          0.0   \n",
              "\n",
              "     joint_pain  vomiting  rash  diarrhea  ...  breathing_restriction  \\\n",
              "0           1.0       1.0   0.0       1.0  ...                    0.0   \n",
              "1           0.0       1.0   0.0       1.0  ...                    0.0   \n",
              "2           1.0       1.0   1.0       1.0  ...                    1.0   \n",
              "3           1.0       0.0   1.0       0.0  ...                    0.0   \n",
              "4           0.0       0.0   0.0       1.0  ...                    0.0   \n",
              "..          ...       ...   ...       ...  ...                    ...   \n",
              "702         0.0       0.0   0.0       0.0  ...                    0.0   \n",
              "703         1.0       0.0   1.0       1.0  ...                    0.0   \n",
              "704         0.0       0.0   1.0       1.0  ...                    0.0   \n",
              "705         0.0       1.0   0.0       1.0  ...                    1.0   \n",
              "706         0.0       1.0   0.0       0.0  ...                    0.0   \n",
              "\n",
              "     toe_inflammation  finger_inflammation  lips_irritation  itchiness  \\\n",
              "0                 0.0                  0.0              0.0        0.0   \n",
              "1                 0.0                  0.0              0.0        0.0   \n",
              "2                 1.0                  1.0              1.0        1.0   \n",
              "3                 0.0                  0.0              0.0        0.0   \n",
              "4                 1.0                  0.0              0.0        1.0   \n",
              "..                ...                  ...              ...        ...   \n",
              "702               0.0                  0.0              0.0        0.0   \n",
              "703               0.0                  0.0              0.0        0.0   \n",
              "704               0.0                  0.0              0.0        0.0   \n",
              "705               1.0                  1.0              1.0        0.0   \n",
              "706               0.0                  0.0              0.0        1.0   \n",
              "\n",
              "     ulcers  toenail_loss  speech_problem  bullseye_rash          prognosis  \n",
              "0       0.0           0.0             0.0            0.0       Lyme_disease  \n",
              "1       0.0           0.0             0.0            0.0          Tungiasis  \n",
              "2       0.0           1.0             1.0            1.0       Lyme_disease  \n",
              "3       0.0           0.0             0.0            0.0               Zika  \n",
              "4       1.0           1.0             0.0            0.0  Rift_Valley_fever  \n",
              "..      ...           ...             ...            ...                ...  \n",
              "702     0.0           0.0             0.0            0.0             Plague  \n",
              "703     0.0           0.0             0.0            0.0            Malaria  \n",
              "704     0.0           0.0             0.0            0.0               Zika  \n",
              "705     0.0           0.0             0.0            0.0             Plague  \n",
              "706     1.0           1.0             0.0            0.0          Tungiasis  \n",
              "\n",
              "[707 rows x 66 columns]"
            ]
          },
          "execution_count": 17,
          "metadata": {},
          "output_type": "execute_result"
        }
      ],
      "source": [
        "train"
      ]
    },
    {
      "cell_type": "code",
      "execution_count": 6,
      "metadata": {
        "colab": {
          "base_uri": "https://localhost:8080/"
        },
        "id": "KyIRa_h-Ia_b",
        "outputId": "4b1af7f1-85d4-42bd-9ae3-2ef44d11574e"
      },
      "outputs": [
        {
          "data": {
            "text/plain": [
              "(707, 66)"
            ]
          },
          "execution_count": 6,
          "metadata": {},
          "output_type": "execute_result"
        }
      ],
      "source": [
        "train.shape"
      ]
    },
    {
      "cell_type": "markdown",
      "metadata": {
        "id": "p28wrN9ugoft"
      },
      "source": [
        "## Correlation Heatmap between features of data\n",
        "- This plot shows the correlation coefficients between all pairs of symptoms in the training data frame. The higher the correlation coefficient, the more often two symptoms were found together."
      ]
    },
    {
      "cell_type": "code",
      "execution_count": 7,
      "metadata": {
        "colab": {
          "base_uri": "https://localhost:8080/",
          "height": 1000
        },
        "id": "xSseKIT5gtKj",
        "outputId": "543a3c22-e204-4513-c4cd-a35fcd5786e7"
      },
      "outputs": [
        {
          "name": "stderr",
          "output_type": "stream",
          "text": [
            "/var/folders/8c/ngntdyvn3bz1q97j4nbx_1jc0000gn/T/ipykernel_23465/2295614684.py:5: FutureWarning: The default value of numeric_only in DataFrame.corr is deprecated. In a future version, it will default to False. Select only valid columns or specify the value of numeric_only to silence this warning.\n",
            "  corr=df.corr()\n"
          ]
        },
        {
          "data": {
            "image/png": "[encoded data removed]",
            "text/plain": [
              "<Figure size 2000x1500 with 2 Axes>"
            ]
          },
          "metadata": {},
          "output_type": "display_data"
        }
      ],
      "source": [
        "#this function creates a heatmap using df.corr() and visualizes it using a heatmap. It also uses a mask to\n",
        "#use in the heatmap parameter\n",
        "def heatmap(df,title):\n",
        "   #use df.corr to find pearsen correlation between symptoms\n",
        "   corr=df.corr()\n",
        "   fix, axes=plt.subplots(figsize=(20,15))\n",
        "   #create mask of zeroes\n",
        "   mask=np.zeros_like(corr)\n",
        "   mask[np.triu_indices_from(mask)]=True\n",
        "   #palette of colors\n",
        "   palette = ['#302c36', '#037d97', '#91013E', '#C09741',\n",
        "           '#EC5B6D', '#90A6B1', '#6ca957', '#D8E3E2']\n",
        "   #creating heatmap\n",
        "   sns.heatmap(corr, mask=mask,linewidths=0.5, cmap=palette[5:][::-2] + palette[1:3], annot=False)\n",
        "   plt.title(title)\n",
        "   plt.show()\n",
        "\n",
        "\n",
        "heatmap(train,'original')"
      ]
    },
    {
      "cell_type": "markdown",
      "metadata": {
        "id": "bIqj7TXog6h5"
      },
      "source": [
        "## Split Training into train and validation and encode\n",
        "\n",
        "- Because the test data did not come with y-values (predicted values), we split the training data to be used for training and validation. We chose a 80%/20% split, because our data set was not huge at 707 data points, but large enough that we could have use a standard split.\n"
      ]
    },
    {
      "cell_type": "code",
      "execution_count": 8,
      "metadata": {
        "id": "L6rNTojxiJRF"
      },
      "outputs": [],
      "source": [
        "#x = train.loc[:, train.columns != 'prognosis'] #get all columns but \"prognosis\" predicting for, and id (useless for prediction)\n",
        "x =  train.drop([\"prognosis\",\"id\"],axis=1)\n",
        "\n",
        "#encode categorical prognosis into numerical format\n",
        "le = LabelEncoder()\n",
        "y = le.fit_transform(train[\"prognosis\"])\n",
        "\n",
        "#split training data further to get validation data\n",
        "#random state ensures that it stays the same after each running\n",
        "x_train, x_val, y_train, y_val =  train_test_split(x, y, test_size=0.2,random_state=42)\n",
        "#test df has unlabeled prognosis\n",
        "\n"
      ]
    },
    {
      "cell_type": "code",
      "execution_count": 9,
      "metadata": {
        "colab": {
          "base_uri": "https://localhost:8080/",
          "height": 81
        },
        "id": "HcPSNDhEokEF",
        "outputId": "3d49e265-2403-4d78-ebc6-6d876832e007"
      },
      "outputs": [
        {
          "data": {
            "text/html": [
              "<div>\n",
              "<style scoped>\n",
              "    .dataframe tbody tr th:only-of-type {\n",
              "        vertical-align: middle;\n",
              "    }\n",
              "\n",
              "    .dataframe tbody tr th {\n",
              "        vertical-align: top;\n",
              "    }\n",
              "\n",
              "    .dataframe thead th {\n",
              "        text-align: right;\n",
              "    }\n",
              "</style>\n",
              "<table border=\"1\" class=\"dataframe\">\n",
              "  <thead>\n",
              "    <tr style=\"text-align: right;\">\n",
              "      <th></th>\n",
              "      <th>Chikungunya</th>\n",
              "      <th>Dengue</th>\n",
              "      <th>Japanese_encephalitis</th>\n",
              "      <th>Lyme_disease</th>\n",
              "      <th>Malaria</th>\n",
              "      <th>Plague</th>\n",
              "      <th>Rift_Valley_fever</th>\n",
              "      <th>Tungiasis</th>\n",
              "      <th>West_Nile_fever</th>\n",
              "      <th>Yellow_Fever</th>\n",
              "      <th>Zika</th>\n",
              "    </tr>\n",
              "  </thead>\n",
              "  <tbody>\n",
              "    <tr>\n",
              "      <th>0</th>\n",
              "      <td>0</td>\n",
              "      <td>1</td>\n",
              "      <td>2</td>\n",
              "      <td>3</td>\n",
              "      <td>4</td>\n",
              "      <td>5</td>\n",
              "      <td>6</td>\n",
              "      <td>7</td>\n",
              "      <td>8</td>\n",
              "      <td>9</td>\n",
              "      <td>10</td>\n",
              "    </tr>\n",
              "  </tbody>\n",
              "</table>\n",
              "</div>"
            ],
            "text/plain": [
              "   Chikungunya  Dengue  Japanese_encephalitis  Lyme_disease  Malaria  Plague  \\\n",
              "0            0       1                      2             3        4       5   \n",
              "\n",
              "   Rift_Valley_fever  Tungiasis  West_Nile_fever  Yellow_Fever  Zika  \n",
              "0                  6          7                8             9    10  "
            ]
          },
          "execution_count": 9,
          "metadata": {},
          "output_type": "execute_result"
        }
      ],
      "source": [
        "#data frame showing what each numerical code represents which prognosis\n",
        "encoding_dict = {label: encoded_value for label, encoded_value in zip(le.classes_, le.transform(le.classes_))}\n",
        "encoding_key = pd.DataFrame([encoding_dict])\n",
        "encoding_key"
      ]
    },
    {
      "cell_type": "markdown",
      "metadata": {
        "id": "b8bvHQxyhAiX"
      },
      "source": [
        "## MCA\n",
        "- Multiple Correspondence Analysis or MCA is used to dimensionality reduce our data by analyzing relationships between categorical variables in a data set. It is similar to PCA, but it is designed for categorical data. The MCA Variable Plot shows that if features are close together in the plot, than they are similar in terms of their contribution to the MCA components, while features that are far apart are dissimilar. The colors of the points indicate the different symptoms from the original data, allowing you to visually inspect how symptoms are related in the MCA plot.\n",
        "\n",
        "The data is transformed using MCA, then fed into the models"
      ]
    },
    {
      "cell_type": "code",
      "execution_count": 10,
      "metadata": {
        "id": "Vlhyq6j8if2M"
      },
      "outputs": [],
      "source": [
        "#Multiple Correspondence Analysis\n",
        "#Technique used for dimensionality reduction (extension of PCA)\n",
        "mca = prince.MCA(\n",
        "    n_components=20, #using 20 variables, because I tested with multiple component sizes and this had best (origincal data has 66)\n",
        "    n_iter=5, #number of iterations of algorithm used to fit MCA model\n",
        "    copy=True, #original data set not modified\n",
        "    check_input=True, #check for NaNs or inf\n",
        "    engine='sklearn', #using sklearn for computation\n",
        "    one_hot = False #categorical variables already encoded\n",
        ")\n",
        "\n",
        "mca = mca.fit(x_train) #fit MCA model\n"
      ]
    },
    {
      "cell_type": "code",
      "execution_count": 11,
      "metadata": {
        "colab": {
          "base_uri": "https://localhost:8080/",
          "height": 542
        },
        "id": "hCnHfDV8WyY3",
        "outputId": "08aab963-77e3-44b2-b3bd-291f03f03353"
      },
      "outputs": [
        {
          "data": {
            "application/vnd.plotly.v1+json": {
              "config": {
                "plotlyServerURL": "https://plot.ly"
              },
              "data": [
                {
                  "hovertemplate": "index=sudden_fever<br>0=%{x}<br>1=%{y}<extra></extra>",
                  "legendgroup": "sudden_fever",
                  "marker": {
                    "color": "#636efa",
                    "symbol": "circle"
                  },
                  "mode": "markers",
                  "name": "sudden_fever",
                  "orientation": "v",
                  "showlegend": true,
                  "type": "scatter",
                  "x": [
                    -0.09030874225835678
                  ],
                  "xaxis": "x",
                  "y": [
                    -0.33372427919337266
                  ],
                  "yaxis": "y"
                },
                {
                  "hovertemplate": "index=headache<br>0=%{x}<br>1=%{y}<extra></extra>",
                  "legendgroup": "headache",
                  "marker": {
                    "color": "#EF553B",
                    "symbol": "circle"
                  },
                  "mode": "markers",
                  "name": "headache",
                  "orientation": "v",
                  "showlegend": true,
                  "type": "scatter",
                  "x": [
                    0.12124846937526443
                  ],
                  "xaxis": "x",
                  "y": [
                    -0.5304336767998775
                  ],
                  "yaxis": "y"
                },
                {
                  "hovertemplate": "index=mouth_bleed<br>0=%{x}<br>1=%{y}<extra></extra>",
                  "legendgroup": "mouth_bleed",
                  "marker": {
                    "color": "#00cc96",
                    "symbol": "circle"
                  },
                  "mode": "markers",
                  "name": "mouth_bleed",
                  "orientation": "v",
                  "showlegend": true,
                  "type": "scatter",
                  "x": [
                    0.08909000318030097
                  ],
                  "xaxis": "x",
                  "y": [
                    -0.2797406301019391
                  ],
                  "yaxis": "y"
                },
                {
                  "hovertemplate": "index=nose_bleed<br>0=%{x}<br>1=%{y}<extra></extra>",
                  "legendgroup": "nose_bleed",
                  "marker": {
                    "color": "#ab63fa",
                    "symbol": "circle"
                  },
                  "mode": "markers",
                  "name": "nose_bleed",
                  "orientation": "v",
                  "showlegend": true,
                  "type": "scatter",
                  "x": [
                    0.0420443805999912
                  ],
                  "xaxis": "x",
                  "y": [
                    -0.37578796053732616
                  ],
                  "yaxis": "y"
                },
                {
                  "hovertemplate": "index=muscle_pain<br>0=%{x}<br>1=%{y}<extra></extra>",
                  "legendgroup": "muscle_pain",
                  "marker": {
                    "color": "#FFA15A",
                    "symbol": "circle"
                  },
                  "mode": "markers",
                  "name": "muscle_pain",
                  "orientation": "v",
                  "showlegend": true,
                  "type": "scatter",
                  "x": [
                    0.048470388726525204
                  ],
                  "xaxis": "x",
                  "y": [
                    -0.48689889760161176
                  ],
                  "yaxis": "y"
                },
                {
                  "hovertemplate": "index=joint_pain<br>0=%{x}<br>1=%{y}<extra></extra>",
                  "legendgroup": "joint_pain",
                  "marker": {
                    "color": "#19d3f3",
                    "symbol": "circle"
                  },
                  "mode": "markers",
                  "name": "joint_pain",
                  "orientation": "v",
                  "showlegend": true,
                  "type": "scatter",
                  "x": [
                    0.08052128557567591
                  ],
                  "xaxis": "x",
                  "y": [
                    -0.46565194881649086
                  ],
                  "yaxis": "y"
                },
                {
                  "hovertemplate": "index=vomiting<br>0=%{x}<br>1=%{y}<extra></extra>",
                  "legendgroup": "vomiting",
                  "marker": {
                    "color": "#FF6692",
                    "symbol": "circle"
                  },
                  "mode": "markers",
                  "name": "vomiting",
                  "orientation": "v",
                  "showlegend": true,
                  "type": "scatter",
                  "x": [
                    0.12824013795950698
                  ],
                  "xaxis": "x",
                  "y": [
                    -0.6342705518527538
                  ],
                  "yaxis": "y"
                },
                {
                  "hovertemplate": "index=rash<br>0=%{x}<br>1=%{y}<extra></extra>",
                  "legendgroup": "rash",
                  "marker": {
                    "color": "#B6E880",
                    "symbol": "circle"
                  },
                  "mode": "markers",
                  "name": "rash",
                  "orientation": "v",
                  "showlegend": true,
                  "type": "scatter",
                  "x": [
                    0.07633618741457893
                  ],
                  "xaxis": "x",
                  "y": [
                    -0.5383993324566196
                  ],
                  "yaxis": "y"
                },
                {
                  "hovertemplate": "index=diarrhea<br>0=%{x}<br>1=%{y}<extra></extra>",
                  "legendgroup": "diarrhea",
                  "marker": {
                    "color": "#FF97FF",
                    "symbol": "circle"
                  },
                  "mode": "markers",
                  "name": "diarrhea",
                  "orientation": "v",
                  "showlegend": true,
                  "type": "scatter",
                  "x": [
                    -0.00020181184958506515
                  ],
                  "xaxis": "x",
                  "y": [
                    -0.16198324952909451
                  ],
                  "yaxis": "y"
                },
                {
                  "hovertemplate": "index=hypotension<br>0=%{x}<br>1=%{y}<extra></extra>",
                  "legendgroup": "hypotension",
                  "marker": {
                    "color": "#FECB52",
                    "symbol": "circle"
                  },
                  "mode": "markers",
                  "name": "hypotension",
                  "orientation": "v",
                  "showlegend": true,
                  "type": "scatter",
                  "x": [
                    0.09406168755682144
                  ],
                  "xaxis": "x",
                  "y": [
                    0.08255143412813519
                  ],
                  "yaxis": "y"
                },
                {
                  "hovertemplate": "index=pleural_effusion<br>0=%{x}<br>1=%{y}<extra></extra>",
                  "legendgroup": "pleural_effusion",
                  "marker": {
                    "color": "#636efa",
                    "symbol": "circle"
                  },
                  "mode": "markers",
                  "name": "pleural_effusion",
                  "orientation": "v",
                  "showlegend": true,
                  "type": "scatter",
                  "x": [
                    -0.019865960426843216
                  ],
                  "xaxis": "x",
                  "y": [
                    0.05908898357785021
                  ],
                  "yaxis": "y"
                },
                {
                  "hovertemplate": "index=ascites<br>0=%{x}<br>1=%{y}<extra></extra>",
                  "legendgroup": "ascites",
                  "marker": {
                    "color": "#EF553B",
                    "symbol": "circle"
                  },
                  "mode": "markers",
                  "name": "ascites",
                  "orientation": "v",
                  "showlegend": true,
                  "type": "scatter",
                  "x": [
                    0.028630995459392454
                  ],
                  "xaxis": "x",
                  "y": [
                    0.18682035856899176
                  ],
                  "yaxis": "y"
                },
                {
                  "hovertemplate": "index=gastro_bleeding<br>0=%{x}<br>1=%{y}<extra></extra>",
                  "legendgroup": "gastro_bleeding",
                  "marker": {
                    "color": "#00cc96",
                    "symbol": "circle"
                  },
                  "mode": "markers",
                  "name": "gastro_bleeding",
                  "orientation": "v",
                  "showlegend": true,
                  "type": "scatter",
                  "x": [
                    -0.06113243165787502
                  ],
                  "xaxis": "x",
                  "y": [
                    0.16834192731287603
                  ],
                  "yaxis": "y"
                },
                {
                  "hovertemplate": "index=swelling<br>0=%{x}<br>1=%{y}<extra></extra>",
                  "legendgroup": "swelling",
                  "marker": {
                    "color": "#ab63fa",
                    "symbol": "circle"
                  },
                  "mode": "markers",
                  "name": "swelling",
                  "orientation": "v",
                  "showlegend": true,
                  "type": "scatter",
                  "x": [
                    -0.06501244919326565
                  ],
                  "xaxis": "x",
                  "y": [
                    0.11776290171658714
                  ],
                  "yaxis": "y"
                },
                {
                  "hovertemplate": "index=nausea<br>0=%{x}<br>1=%{y}<extra></extra>",
                  "legendgroup": "nausea",
                  "marker": {
                    "color": "#FFA15A",
                    "symbol": "circle"
                  },
                  "mode": "markers",
                  "name": "nausea",
                  "orientation": "v",
                  "showlegend": true,
                  "type": "scatter",
                  "x": [
                    -0.017844076882059943
                  ],
                  "xaxis": "x",
                  "y": [
                    -0.43089255336864063
                  ],
                  "yaxis": "y"
                },
                {
                  "hovertemplate": "index=chills<br>0=%{x}<br>1=%{y}<extra></extra>",
                  "legendgroup": "chills",
                  "marker": {
                    "color": "#19d3f3",
                    "symbol": "circle"
                  },
                  "mode": "markers",
                  "name": "chills",
                  "orientation": "v",
                  "showlegend": true,
                  "type": "scatter",
                  "x": [
                    -0.05976437760077355
                  ],
                  "xaxis": "x",
                  "y": [
                    0.10790371846568712
                  ],
                  "yaxis": "y"
                },
                {
                  "hovertemplate": "index=myalgia<br>0=%{x}<br>1=%{y}<extra></extra>",
                  "legendgroup": "myalgia",
                  "marker": {
                    "color": "#FF6692",
                    "symbol": "circle"
                  },
                  "mode": "markers",
                  "name": "myalgia",
                  "orientation": "v",
                  "showlegend": true,
                  "type": "scatter",
                  "x": [
                    -0.11751234697188488
                  ],
                  "xaxis": "x",
                  "y": [
                    0.2473915278933949
                  ],
                  "yaxis": "y"
                },
                {
                  "hovertemplate": "index=digestion_trouble<br>0=%{x}<br>1=%{y}<extra></extra>",
                  "legendgroup": "digestion_trouble",
                  "marker": {
                    "color": "#B6E880",
                    "symbol": "circle"
                  },
                  "mode": "markers",
                  "name": "digestion_trouble",
                  "orientation": "v",
                  "showlegend": true,
                  "type": "scatter",
                  "x": [
                    -0.12643758994082882
                  ],
                  "xaxis": "x",
                  "y": [
                    -0.012273331570066777
                  ],
                  "yaxis": "y"
                },
                {
                  "hovertemplate": "index=fatigue<br>0=%{x}<br>1=%{y}<extra></extra>",
                  "legendgroup": "fatigue",
                  "marker": {
                    "color": "#FF97FF",
                    "symbol": "circle"
                  },
                  "mode": "markers",
                  "name": "fatigue",
                  "orientation": "v",
                  "showlegend": true,
                  "type": "scatter",
                  "x": [
                    0.013458904356723402
                  ],
                  "xaxis": "x",
                  "y": [
                    0.35243820833741624
                  ],
                  "yaxis": "y"
                },
                {
                  "hovertemplate": "index=skin_lesions<br>0=%{x}<br>1=%{y}<extra></extra>",
                  "legendgroup": "skin_lesions",
                  "marker": {
                    "color": "#FECB52",
                    "symbol": "circle"
                  },
                  "mode": "markers",
                  "name": "skin_lesions",
                  "orientation": "v",
                  "showlegend": true,
                  "type": "scatter",
                  "x": [
                    -0.15667298637262372
                  ],
                  "xaxis": "x",
                  "y": [
                    0.29021079490280605
                  ],
                  "yaxis": "y"
                },
                {
                  "hovertemplate": "index=stomach_pain<br>0=%{x}<br>1=%{y}<extra></extra>",
                  "legendgroup": "stomach_pain",
                  "marker": {
                    "color": "#636efa",
                    "symbol": "circle"
                  },
                  "mode": "markers",
                  "name": "stomach_pain",
                  "orientation": "v",
                  "showlegend": true,
                  "type": "scatter",
                  "x": [
                    -0.19223927396375784
                  ],
                  "xaxis": "x",
                  "y": [
                    0.203511618648389
                  ],
                  "yaxis": "y"
                },
                {
                  "hovertemplate": "index=orbital_pain<br>0=%{x}<br>1=%{y}<extra></extra>",
                  "legendgroup": "orbital_pain",
                  "marker": {
                    "color": "#EF553B",
                    "symbol": "circle"
                  },
                  "mode": "markers",
                  "name": "orbital_pain",
                  "orientation": "v",
                  "showlegend": true,
                  "type": "scatter",
                  "x": [
                    -0.13527419311559347
                  ],
                  "xaxis": "x",
                  "y": [
                    0.2983129684858786
                  ],
                  "yaxis": "y"
                },
                {
                  "hovertemplate": "index=neck_pain<br>0=%{x}<br>1=%{y}<extra></extra>",
                  "legendgroup": "neck_pain",
                  "marker": {
                    "color": "#00cc96",
                    "symbol": "circle"
                  },
                  "mode": "markers",
                  "name": "neck_pain",
                  "orientation": "v",
                  "showlegend": true,
                  "type": "scatter",
                  "x": [
                    -0.18519245925952227
                  ],
                  "xaxis": "x",
                  "y": [
                    0.1333261499575953
                  ],
                  "yaxis": "y"
                },
                {
                  "hovertemplate": "index=weakness<br>0=%{x}<br>1=%{y}<extra></extra>",
                  "legendgroup": "weakness",
                  "marker": {
                    "color": "#ab63fa",
                    "symbol": "circle"
                  },
                  "mode": "markers",
                  "name": "weakness",
                  "orientation": "v",
                  "showlegend": true,
                  "type": "scatter",
                  "x": [
                    -0.2562027002229891
                  ],
                  "xaxis": "x",
                  "y": [
                    0.1349251813455135
                  ],
                  "yaxis": "y"
                },
                {
                  "hovertemplate": "index=back_pain<br>0=%{x}<br>1=%{y}<extra></extra>",
                  "legendgroup": "back_pain",
                  "marker": {
                    "color": "#FFA15A",
                    "symbol": "circle"
                  },
                  "mode": "markers",
                  "name": "back_pain",
                  "orientation": "v",
                  "showlegend": true,
                  "type": "scatter",
                  "x": [
                    -0.24098726359723358
                  ],
                  "xaxis": "x",
                  "y": [
                    0.01780639964350241
                  ],
                  "yaxis": "y"
                },
                {
                  "hovertemplate": "index=weight_loss<br>0=%{x}<br>1=%{y}<extra></extra>",
                  "legendgroup": "weight_loss",
                  "marker": {
                    "color": "#19d3f3",
                    "symbol": "circle"
                  },
                  "mode": "markers",
                  "name": "weight_loss",
                  "orientation": "v",
                  "showlegend": true,
                  "type": "scatter",
                  "x": [
                    -0.21366826266750857
                  ],
                  "xaxis": "x",
                  "y": [
                    0.08326933749619164
                  ],
                  "yaxis": "y"
                },
                {
                  "hovertemplate": "index=gum_bleed<br>0=%{x}<br>1=%{y}<extra></extra>",
                  "legendgroup": "gum_bleed",
                  "marker": {
                    "color": "#FF6692",
                    "symbol": "circle"
                  },
                  "mode": "markers",
                  "name": "gum_bleed",
                  "orientation": "v",
                  "showlegend": true,
                  "type": "scatter",
                  "x": [
                    -0.14499462161185075
                  ],
                  "xaxis": "x",
                  "y": [
                    0.1282842111577066
                  ],
                  "yaxis": "y"
                },
                {
                  "hovertemplate": "index=jaundice<br>0=%{x}<br>1=%{y}<extra></extra>",
                  "legendgroup": "jaundice",
                  "marker": {
                    "color": "#B6E880",
                    "symbol": "circle"
                  },
                  "mode": "markers",
                  "name": "jaundice",
                  "orientation": "v",
                  "showlegend": true,
                  "type": "scatter",
                  "x": [
                    -0.14092762691498417
                  ],
                  "xaxis": "x",
                  "y": [
                    0.20761078283652526
                  ],
                  "yaxis": "y"
                },
                {
                  "hovertemplate": "index=coma<br>0=%{x}<br>1=%{y}<extra></extra>",
                  "legendgroup": "coma",
                  "marker": {
                    "color": "#FF97FF",
                    "symbol": "circle"
                  },
                  "mode": "markers",
                  "name": "coma",
                  "orientation": "v",
                  "showlegend": true,
                  "type": "scatter",
                  "x": [
                    -0.2575853961563468
                  ],
                  "xaxis": "x",
                  "y": [
                    -0.017322857545421483
                  ],
                  "yaxis": "y"
                },
                {
                  "hovertemplate": "index=diziness<br>0=%{x}<br>1=%{y}<extra></extra>",
                  "legendgroup": "diziness",
                  "marker": {
                    "color": "#FECB52",
                    "symbol": "circle"
                  },
                  "mode": "markers",
                  "name": "diziness",
                  "orientation": "v",
                  "showlegend": true,
                  "type": "scatter",
                  "x": [
                    -0.14840501858136632
                  ],
                  "xaxis": "x",
                  "y": [
                    0.08703260946847599
                  ],
                  "yaxis": "y"
                },
                {
                  "hovertemplate": "index=inflammation<br>0=%{x}<br>1=%{y}<extra></extra>",
                  "legendgroup": "inflammation",
                  "marker": {
                    "color": "#636efa",
                    "symbol": "circle"
                  },
                  "mode": "markers",
                  "name": "inflammation",
                  "orientation": "v",
                  "showlegend": true,
                  "type": "scatter",
                  "x": [
                    -0.30315702445476045
                  ],
                  "xaxis": "x",
                  "y": [
                    -0.1847336594784796
                  ],
                  "yaxis": "y"
                },
                {
                  "hovertemplate": "index=red_eyes<br>0=%{x}<br>1=%{y}<extra></extra>",
                  "legendgroup": "red_eyes",
                  "marker": {
                    "color": "#EF553B",
                    "symbol": "circle"
                  },
                  "mode": "markers",
                  "name": "red_eyes",
                  "orientation": "v",
                  "showlegend": true,
                  "type": "scatter",
                  "x": [
                    -0.2723496846489962
                  ],
                  "xaxis": "x",
                  "y": [
                    -0.07193986709194072
                  ],
                  "yaxis": "y"
                },
                {
                  "hovertemplate": "index=loss_of_appetite<br>0=%{x}<br>1=%{y}<extra></extra>",
                  "legendgroup": "loss_of_appetite",
                  "marker": {
                    "color": "#00cc96",
                    "symbol": "circle"
                  },
                  "mode": "markers",
                  "name": "loss_of_appetite",
                  "orientation": "v",
                  "showlegend": true,
                  "type": "scatter",
                  "x": [
                    -0.31625252695347006
                  ],
                  "xaxis": "x",
                  "y": [
                    -0.3234776324392256
                  ],
                  "yaxis": "y"
                },
                {
                  "hovertemplate": "index=urination_loss<br>0=%{x}<br>1=%{y}<extra></extra>",
                  "legendgroup": "urination_loss",
                  "marker": {
                    "color": "#ab63fa",
                    "symbol": "circle"
                  },
                  "mode": "markers",
                  "name": "urination_loss",
                  "orientation": "v",
                  "showlegend": true,
                  "type": "scatter",
                  "x": [
                    -0.3738861064974161
                  ],
                  "xaxis": "x",
                  "y": [
                    -0.37951404295294316
                  ],
                  "yaxis": "y"
                },
                {
                  "hovertemplate": "index=slow_heart_rate<br>0=%{x}<br>1=%{y}<extra></extra>",
                  "legendgroup": "slow_heart_rate",
                  "marker": {
                    "color": "#FFA15A",
                    "symbol": "circle"
                  },
                  "mode": "markers",
                  "name": "slow_heart_rate",
                  "orientation": "v",
                  "showlegend": true,
                  "type": "scatter",
                  "x": [
                    -0.45918953674795776
                  ],
                  "xaxis": "x",
                  "y": [
                    -0.43379949820038805
                  ],
                  "yaxis": "y"
                },
                {
                  "hovertemplate": "index=abdominal_pain<br>0=%{x}<br>1=%{y}<extra></extra>",
                  "legendgroup": "abdominal_pain",
                  "marker": {
                    "color": "#19d3f3",
                    "symbol": "circle"
                  },
                  "mode": "markers",
                  "name": "abdominal_pain",
                  "orientation": "v",
                  "showlegend": true,
                  "type": "scatter",
                  "x": [
                    -0.38809450099639725
                  ],
                  "xaxis": "x",
                  "y": [
                    -0.3711694190882668
                  ],
                  "yaxis": "y"
                },
                {
                  "hovertemplate": "index=light_sensitivity<br>0=%{x}<br>1=%{y}<extra></extra>",
                  "legendgroup": "light_sensitivity",
                  "marker": {
                    "color": "#FF6692",
                    "symbol": "circle"
                  },
                  "mode": "markers",
                  "name": "light_sensitivity",
                  "orientation": "v",
                  "showlegend": true,
                  "type": "scatter",
                  "x": [
                    -0.3606429486525001
                  ],
                  "xaxis": "x",
                  "y": [
                    -0.23814629795265208
                  ],
                  "yaxis": "y"
                },
                {
                  "hovertemplate": "index=yellow_skin<br>0=%{x}<br>1=%{y}<extra></extra>",
                  "legendgroup": "yellow_skin",
                  "marker": {
                    "color": "#B6E880",
                    "symbol": "circle"
                  },
                  "mode": "markers",
                  "name": "yellow_skin",
                  "orientation": "v",
                  "showlegend": true,
                  "type": "scatter",
                  "x": [
                    -0.3465395530201261
                  ],
                  "xaxis": "x",
                  "y": [
                    -0.3120811366307914
                  ],
                  "yaxis": "y"
                },
                {
                  "hovertemplate": "index=yellow_eyes<br>0=%{x}<br>1=%{y}<extra></extra>",
                  "legendgroup": "yellow_eyes",
                  "marker": {
                    "color": "#FF97FF",
                    "symbol": "circle"
                  },
                  "mode": "markers",
                  "name": "yellow_eyes",
                  "orientation": "v",
                  "showlegend": true,
                  "type": "scatter",
                  "x": [
                    -0.31251890616722683
                  ],
                  "xaxis": "x",
                  "y": [
                    -0.3181671907450808
                  ],
                  "yaxis": "y"
                },
                {
                  "hovertemplate": "index=facial_distortion<br>0=%{x}<br>1=%{y}<extra></extra>",
                  "legendgroup": "facial_distortion",
                  "marker": {
                    "color": "#FECB52",
                    "symbol": "circle"
                  },
                  "mode": "markers",
                  "name": "facial_distortion",
                  "orientation": "v",
                  "showlegend": true,
                  "type": "scatter",
                  "x": [
                    0.0021595481613164644
                  ],
                  "xaxis": "x",
                  "y": [
                    0.0848520025153792
                  ],
                  "yaxis": "y"
                },
                {
                  "hovertemplate": "index=microcephaly<br>0=%{x}<br>1=%{y}<extra></extra>",
                  "legendgroup": "microcephaly",
                  "marker": {
                    "color": "#636efa",
                    "symbol": "circle"
                  },
                  "mode": "markers",
                  "name": "microcephaly",
                  "orientation": "v",
                  "showlegend": true,
                  "type": "scatter",
                  "x": [
                    -0.4063334300441491
                  ],
                  "xaxis": "x",
                  "y": [
                    -0.13535032238535719
                  ],
                  "yaxis": "y"
                },
                {
                  "hovertemplate": "index=rigor<br>0=%{x}<br>1=%{y}<extra></extra>",
                  "legendgroup": "rigor",
                  "marker": {
                    "color": "#EF553B",
                    "symbol": "circle"
                  },
                  "mode": "markers",
                  "name": "rigor",
                  "orientation": "v",
                  "showlegend": true,
                  "type": "scatter",
                  "x": [
                    -0.08198183762083618
                  ],
                  "xaxis": "x",
                  "y": [
                    0.5094621866848476
                  ],
                  "yaxis": "y"
                },
                {
                  "hovertemplate": "index=bitter_tongue<br>0=%{x}<br>1=%{y}<extra></extra>",
                  "legendgroup": "bitter_tongue",
                  "marker": {
                    "color": "#00cc96",
                    "symbol": "circle"
                  },
                  "mode": "markers",
                  "name": "bitter_tongue",
                  "orientation": "v",
                  "showlegend": true,
                  "type": "scatter",
                  "x": [
                    0.12902594950891863
                  ],
                  "xaxis": "x",
                  "y": [
                    0.5582960073976612
                  ],
                  "yaxis": "y"
                },
                {
                  "hovertemplate": "index=convulsion<br>0=%{x}<br>1=%{y}<extra></extra>",
                  "legendgroup": "convulsion",
                  "marker": {
                    "color": "#ab63fa",
                    "symbol": "circle"
                  },
                  "mode": "markers",
                  "name": "convulsion",
                  "orientation": "v",
                  "showlegend": true,
                  "type": "scatter",
                  "x": [
                    -0.06276752362705042
                  ],
                  "xaxis": "x",
                  "y": [
                    0.6104817292493644
                  ],
                  "yaxis": "y"
                },
                {
                  "hovertemplate": "index=anemia<br>0=%{x}<br>1=%{y}<extra></extra>",
                  "legendgroup": "anemia",
                  "marker": {
                    "color": "#FFA15A",
                    "symbol": "circle"
                  },
                  "mode": "markers",
                  "name": "anemia",
                  "orientation": "v",
                  "showlegend": true,
                  "type": "scatter",
                  "x": [
                    0.1953922846971506
                  ],
                  "xaxis": "x",
                  "y": [
                    0.49857610935412905
                  ],
                  "yaxis": "y"
                },
                {
                  "hovertemplate": "index=cocacola_urine<br>0=%{x}<br>1=%{y}<extra></extra>",
                  "legendgroup": "cocacola_urine",
                  "marker": {
                    "color": "#19d3f3",
                    "symbol": "circle"
                  },
                  "mode": "markers",
                  "name": "cocacola_urine",
                  "orientation": "v",
                  "showlegend": true,
                  "type": "scatter",
                  "x": [
                    0.20000690280703307
                  ],
                  "xaxis": "x",
                  "y": [
                    0.5209591976703732
                  ],
                  "yaxis": "y"
                },
                {
                  "hovertemplate": "index=hypoglycemia<br>0=%{x}<br>1=%{y}<extra></extra>",
                  "legendgroup": "hypoglycemia",
                  "marker": {
                    "color": "#FF6692",
                    "symbol": "circle"
                  },
                  "mode": "markers",
                  "name": "hypoglycemia",
                  "orientation": "v",
                  "showlegend": true,
                  "type": "scatter",
                  "x": [
                    0.09923067834013577
                  ],
                  "xaxis": "x",
                  "y": [
                    0.5449951862643495
                  ],
                  "yaxis": "y"
                },
                {
                  "hovertemplate": "index=prostraction<br>0=%{x}<br>1=%{y}<extra></extra>",
                  "legendgroup": "prostraction",
                  "marker": {
                    "color": "#B6E880",
                    "symbol": "circle"
                  },
                  "mode": "markers",
                  "name": "prostraction",
                  "orientation": "v",
                  "showlegend": true,
                  "type": "scatter",
                  "x": [
                    0.014573567920526706
                  ],
                  "xaxis": "x",
                  "y": [
                    0.7008202496129329
                  ],
                  "yaxis": "y"
                },
                {
                  "hovertemplate": "index=hyperpyrexia<br>0=%{x}<br>1=%{y}<extra></extra>",
                  "legendgroup": "hyperpyrexia",
                  "marker": {
                    "color": "#FF97FF",
                    "symbol": "circle"
                  },
                  "mode": "markers",
                  "name": "hyperpyrexia",
                  "orientation": "v",
                  "showlegend": true,
                  "type": "scatter",
                  "x": [
                    0.44078811777518107
                  ],
                  "xaxis": "x",
                  "y": [
                    0.6839517453301437
                  ],
                  "yaxis": "y"
                },
                {
                  "hovertemplate": "index=stiff_neck<br>0=%{x}<br>1=%{y}<extra></extra>",
                  "legendgroup": "stiff_neck",
                  "marker": {
                    "color": "#FECB52",
                    "symbol": "circle"
                  },
                  "mode": "markers",
                  "name": "stiff_neck",
                  "orientation": "v",
                  "showlegend": true,
                  "type": "scatter",
                  "x": [
                    0.09462787350774035
                  ],
                  "xaxis": "x",
                  "y": [
                    0.9608939287032624
                  ],
                  "yaxis": "y"
                },
                {
                  "hovertemplate": "index=irritability<br>0=%{x}<br>1=%{y}<extra></extra>",
                  "legendgroup": "irritability",
                  "marker": {
                    "color": "#636efa",
                    "symbol": "circle"
                  },
                  "mode": "markers",
                  "name": "irritability",
                  "orientation": "v",
                  "showlegend": true,
                  "type": "scatter",
                  "x": [
                    0.09814864179813974
                  ],
                  "xaxis": "x",
                  "y": [
                    0.8836948220101004
                  ],
                  "yaxis": "y"
                },
                {
                  "hovertemplate": "index=confusion<br>0=%{x}<br>1=%{y}<extra></extra>",
                  "legendgroup": "confusion",
                  "marker": {
                    "color": "#EF553B",
                    "symbol": "circle"
                  },
                  "mode": "markers",
                  "name": "confusion",
                  "orientation": "v",
                  "showlegend": true,
                  "type": "scatter",
                  "x": [
                    0.2647642917953776
                  ],
                  "xaxis": "x",
                  "y": [
                    0.9289223453485099
                  ],
                  "yaxis": "y"
                },
                {
                  "hovertemplate": "index=tremor<br>0=%{x}<br>1=%{y}<extra></extra>",
                  "legendgroup": "tremor",
                  "marker": {
                    "color": "#00cc96",
                    "symbol": "circle"
                  },
                  "mode": "markers",
                  "name": "tremor",
                  "orientation": "v",
                  "showlegend": true,
                  "type": "scatter",
                  "x": [
                    0.2837910558965052
                  ],
                  "xaxis": "x",
                  "y": [
                    0.8180422530193489
                  ],
                  "yaxis": "y"
                },
                {
                  "hovertemplate": "index=paralysis<br>0=%{x}<br>1=%{y}<extra></extra>",
                  "legendgroup": "paralysis",
                  "marker": {
                    "color": "#ab63fa",
                    "symbol": "circle"
                  },
                  "mode": "markers",
                  "name": "paralysis",
                  "orientation": "v",
                  "showlegend": true,
                  "type": "scatter",
                  "x": [
                    0.1972791238596887
                  ],
                  "xaxis": "x",
                  "y": [
                    0.9301634296962432
                  ],
                  "yaxis": "y"
                },
                {
                  "hovertemplate": "index=lymph_swells<br>0=%{x}<br>1=%{y}<extra></extra>",
                  "legendgroup": "lymph_swells",
                  "marker": {
                    "color": "#FFA15A",
                    "symbol": "circle"
                  },
                  "mode": "markers",
                  "name": "lymph_swells",
                  "orientation": "v",
                  "showlegend": true,
                  "type": "scatter",
                  "x": [
                    0.3507745304223702
                  ],
                  "xaxis": "x",
                  "y": [
                    0.8823257405355173
                  ],
                  "yaxis": "y"
                },
                {
                  "hovertemplate": "index=breathing_restriction<br>0=%{x}<br>1=%{y}<extra></extra>",
                  "legendgroup": "breathing_restriction",
                  "marker": {
                    "color": "#19d3f3",
                    "symbol": "circle"
                  },
                  "mode": "markers",
                  "name": "breathing_restriction",
                  "orientation": "v",
                  "showlegend": true,
                  "type": "scatter",
                  "x": [
                    0.47688253232684574
                  ],
                  "xaxis": "x",
                  "y": [
                    0.870036580436382
                  ],
                  "yaxis": "y"
                },
                {
                  "hovertemplate": "index=toe_inflammation<br>0=%{x}<br>1=%{y}<extra></extra>",
                  "legendgroup": "toe_inflammation",
                  "marker": {
                    "color": "#FF6692",
                    "symbol": "circle"
                  },
                  "mode": "markers",
                  "name": "toe_inflammation",
                  "orientation": "v",
                  "showlegend": true,
                  "type": "scatter",
                  "x": [
                    0.7124575144481626
                  ],
                  "xaxis": "x",
                  "y": [
                    0.8220851563295071
                  ],
                  "yaxis": "y"
                },
                {
                  "hovertemplate": "index=finger_inflammation<br>0=%{x}<br>1=%{y}<extra></extra>",
                  "legendgroup": "finger_inflammation",
                  "marker": {
                    "color": "#B6E880",
                    "symbol": "circle"
                  },
                  "mode": "markers",
                  "name": "finger_inflammation",
                  "orientation": "v",
                  "showlegend": true,
                  "type": "scatter",
                  "x": [
                    0.4359702543181111
                  ],
                  "xaxis": "x",
                  "y": [
                    0.8520875426921226
                  ],
                  "yaxis": "y"
                },
                {
                  "hovertemplate": "index=lips_irritation<br>0=%{x}<br>1=%{y}<extra></extra>",
                  "legendgroup": "lips_irritation",
                  "marker": {
                    "color": "#FF97FF",
                    "symbol": "circle"
                  },
                  "mode": "markers",
                  "name": "lips_irritation",
                  "orientation": "v",
                  "showlegend": true,
                  "type": "scatter",
                  "x": [
                    0.37389734877475356
                  ],
                  "xaxis": "x",
                  "y": [
                    0.9566461207014232
                  ],
                  "yaxis": "y"
                },
                {
                  "hovertemplate": "index=itchiness<br>0=%{x}<br>1=%{y}<extra></extra>",
                  "legendgroup": "itchiness",
                  "marker": {
                    "color": "#FECB52",
                    "symbol": "circle"
                  },
                  "mode": "markers",
                  "name": "itchiness",
                  "orientation": "v",
                  "showlegend": true,
                  "type": "scatter",
                  "x": [
                    3.1171340476148117
                  ],
                  "xaxis": "x",
                  "y": [
                    -0.451798641027274
                  ],
                  "yaxis": "y"
                },
                {
                  "hovertemplate": "index=ulcers<br>0=%{x}<br>1=%{y}<extra></extra>",
                  "legendgroup": "ulcers",
                  "marker": {
                    "color": "#636efa",
                    "symbol": "circle"
                  },
                  "mode": "markers",
                  "name": "ulcers",
                  "orientation": "v",
                  "showlegend": true,
                  "type": "scatter",
                  "x": [
                    3.3182372450886626
                  ],
                  "xaxis": "x",
                  "y": [
                    -0.5223283326823979
                  ],
                  "yaxis": "y"
                },
                {
                  "hovertemplate": "index=toenail_loss<br>0=%{x}<br>1=%{y}<extra></extra>",
                  "legendgroup": "toenail_loss",
                  "marker": {
                    "color": "#EF553B",
                    "symbol": "circle"
                  },
                  "mode": "markers",
                  "name": "toenail_loss",
                  "orientation": "v",
                  "showlegend": true,
                  "type": "scatter",
                  "x": [
                    3.3748434110832566
                  ],
                  "xaxis": "x",
                  "y": [
                    -0.5276878466531026
                  ],
                  "yaxis": "y"
                },
                {
                  "hovertemplate": "index=speech_problem<br>0=%{x}<br>1=%{y}<extra></extra>",
                  "legendgroup": "speech_problem",
                  "marker": {
                    "color": "#00cc96",
                    "symbol": "circle"
                  },
                  "mode": "markers",
                  "name": "speech_problem",
                  "orientation": "v",
                  "showlegend": true,
                  "type": "scatter",
                  "x": [
                    0.8965561695975637
                  ],
                  "xaxis": "x",
                  "y": [
                    0.7627967193429332
                  ],
                  "yaxis": "y"
                },
                {
                  "hovertemplate": "index=bullseye_rash<br>0=%{x}<br>1=%{y}<extra></extra>",
                  "legendgroup": "bullseye_rash",
                  "marker": {
                    "color": "#ab63fa",
                    "symbol": "circle"
                  },
                  "mode": "markers",
                  "name": "bullseye_rash",
                  "orientation": "v",
                  "showlegend": true,
                  "type": "scatter",
                  "x": [
                    0.9594692606938346
                  ],
                  "xaxis": "x",
                  "y": [
                    0.6375165261120362
                  ],
                  "yaxis": "y"
                }
              ],
              "layout": {
                "legend": {
                  "title": {
                    "text": "index"
                  },
                  "tracegroupgap": 0
                },
                "margin": {
                  "t": 60
                },
                "template": {
                  "data": {
                    "bar": [
                      {
                        "error_x": {
                          "color": "#2a3f5f"
                        },
                        "error_y": {
                          "color": "#2a3f5f"
                        },
                        "marker": {
                          "line": {
                            "color": "#E5ECF6",
                            "width": 0.5
                          },
                          "pattern": {
                            "fillmode": "overlay",
                            "size": 10,
                            "solidity": 0.2
                          }
                        },
                        "type": "bar"
                      }
                    ],
                    "barpolar": [
                      {
                        "marker": {
                          "line": {
                            "color": "#E5ECF6",
                            "width": 0.5
                          },
                          "pattern": {
                            "fillmode": "overlay",
                            "size": 10,
                            "solidity": 0.2
                          }
                        },
                        "type": "barpolar"
                      }
                    ],
                    "carpet": [
                      {
                        "aaxis": {
                          "endlinecolor": "#2a3f5f",
                          "gridcolor": "white",
                          "linecolor": "white",
                          "minorgridcolor": "white",
                          "startlinecolor": "#2a3f5f"
                        },
                        "baxis": {
                          "endlinecolor": "#2a3f5f",
                          "gridcolor": "white",
                          "linecolor": "white",
                          "minorgridcolor": "white",
                          "startlinecolor": "#2a3f5f"
                        },
                        "type": "carpet"
                      }
                    ],
                    "choropleth": [
                      {
                        "colorbar": {
                          "outlinewidth": 0,
                          "ticks": ""
                        },
                        "type": "choropleth"
                      }
                    ],
                    "contour": [
                      {
                        "colorbar": {
                          "outlinewidth": 0,
                          "ticks": ""
                        },
                        "colorscale": [
                          [
                            0,
                            "#0d0887"
                          ],
                          [
                            0.1111111111111111,
                            "#46039f"
                          ],
                          [
                            0.2222222222222222,
                            "#7201a8"
                          ],
                          [
                            0.3333333333333333,
                            "#9c179e"
                          ],
                          [
                            0.4444444444444444,
                            "#bd3786"
                          ],
                          [
                            0.5555555555555556,
                            "#d8576b"
                          ],
                          [
                            0.6666666666666666,
                            "#ed7953"
                          ],
                          [
                            0.7777777777777778,
                            "#fb9f3a"
                          ],
                          [
                            0.8888888888888888,
                            "#fdca26"
                          ],
                          [
                            1,
                            "#f0f921"
                          ]
                        ],
                        "type": "contour"
                      }
                    ],
                    "contourcarpet": [
                      {
                        "colorbar": {
                          "outlinewidth": 0,
                          "ticks": ""
                        },
                        "type": "contourcarpet"
                      }
                    ],
                    "heatmap": [
                      {
                        "colorbar": {
                          "outlinewidth": 0,
                          "ticks": ""
                        },
                        "colorscale": [
                          [
                            0,
                            "#0d0887"
                          ],
                          [
                            0.1111111111111111,
                            "#46039f"
                          ],
                          [
                            0.2222222222222222,
                            "#7201a8"
                          ],
                          [
                            0.3333333333333333,
                            "#9c179e"
                          ],
                          [
                            0.4444444444444444,
                            "#bd3786"
                          ],
                          [
                            0.5555555555555556,
                            "#d8576b"
                          ],
                          [
                            0.6666666666666666,
                            "#ed7953"
                          ],
                          [
                            0.7777777777777778,
                            "#fb9f3a"
                          ],
                          [
                            0.8888888888888888,
                            "#fdca26"
                          ],
                          [
                            1,
                            "#f0f921"
                          ]
                        ],
                        "type": "heatmap"
                      }
                    ],
                    "heatmapgl": [
                      {
                        "colorbar": {
                          "outlinewidth": 0,
                          "ticks": ""
                        },
                        "colorscale": [
                          [
                            0,
                            "#0d0887"
                          ],
                          [
                            0.1111111111111111,
                            "#46039f"
                          ],
                          [
                            0.2222222222222222,
                            "#7201a8"
                          ],
                          [
                            0.3333333333333333,
                            "#9c179e"
                          ],
                          [
                            0.4444444444444444,
                            "#bd3786"
                          ],
                          [
                            0.5555555555555556,
                            "#d8576b"
                          ],
                          [
                            0.6666666666666666,
                            "#ed7953"
                          ],
                          [
                            0.7777777777777778,
                            "#fb9f3a"
                          ],
                          [
                            0.8888888888888888,
                            "#fdca26"
                          ],
                          [
                            1,
                            "#f0f921"
                          ]
                        ],
                        "type": "heatmapgl"
                      }
                    ],
                    "histogram": [
                      {
                        "marker": {
                          "pattern": {
                            "fillmode": "overlay",
                            "size": 10,
                            "solidity": 0.2
                          }
                        },
                        "type": "histogram"
                      }
                    ],
                    "histogram2d": [
                      {
                        "colorbar": {
                          "outlinewidth": 0,
                          "ticks": ""
                        },
                        "colorscale": [
                          [
                            0,
                            "#0d0887"
                          ],
                          [
                            0.1111111111111111,
                            "#46039f"
                          ],
                          [
                            0.2222222222222222,
                            "#7201a8"
                          ],
                          [
                            0.3333333333333333,
                            "#9c179e"
                          ],
                          [
                            0.4444444444444444,
                            "#bd3786"
                          ],
                          [
                            0.5555555555555556,
                            "#d8576b"
                          ],
                          [
                            0.6666666666666666,
                            "#ed7953"
                          ],
                          [
                            0.7777777777777778,
                            "#fb9f3a"
                          ],
                          [
                            0.8888888888888888,
                            "#fdca26"
                          ],
                          [
                            1,
                            "#f0f921"
                          ]
                        ],
                        "type": "histogram2d"
                      }
                    ],
                    "histogram2dcontour": [
                      {
                        "colorbar": {
                          "outlinewidth": 0,
                          "ticks": ""
                        },
                        "colorscale": [
                          [
                            0,
                            "#0d0887"
                          ],
                          [
                            0.1111111111111111,
                            "#46039f"
                          ],
                          [
                            0.2222222222222222,
                            "#7201a8"
                          ],
                          [
                            0.3333333333333333,
                            "#9c179e"
                          ],
                          [
                            0.4444444444444444,
                            "#bd3786"
                          ],
                          [
                            0.5555555555555556,
                            "#d8576b"
                          ],
                          [
                            0.6666666666666666,
                            "#ed7953"
                          ],
                          [
                            0.7777777777777778,
                            "#fb9f3a"
                          ],
                          [
                            0.8888888888888888,
                            "#fdca26"
                          ],
                          [
                            1,
                            "#f0f921"
                          ]
                        ],
                        "type": "histogram2dcontour"
                      }
                    ],
                    "mesh3d": [
                      {
                        "colorbar": {
                          "outlinewidth": 0,
                          "ticks": ""
                        },
                        "type": "mesh3d"
                      }
                    ],
                    "parcoords": [
                      {
                        "line": {
                          "colorbar": {
                            "outlinewidth": 0,
                            "ticks": ""
                          }
                        },
                        "type": "parcoords"
                      }
                    ],
                    "pie": [
                      {
                        "automargin": true,
                        "type": "pie"
                      }
                    ],
                    "scatter": [
                      {
                        "fillpattern": {
                          "fillmode": "overlay",
                          "size": 10,
                          "solidity": 0.2
                        },
                        "type": "scatter"
                      }
                    ],
                    "scatter3d": [
                      {
                        "line": {
                          "colorbar": {
                            "outlinewidth": 0,
                            "ticks": ""
                          }
                        },
                        "marker": {
                          "colorbar": {
                            "outlinewidth": 0,
                            "ticks": ""
                          }
                        },
                        "type": "scatter3d"
                      }
                    ],
                    "scattercarpet": [
                      {
                        "marker": {
                          "colorbar": {
                            "outlinewidth": 0,
                            "ticks": ""
                          }
                        },
                        "type": "scattercarpet"
                      }
                    ],
                    "scattergeo": [
                      {
                        "marker": {
                          "colorbar": {
                            "outlinewidth": 0,
                            "ticks": ""
                          }
                        },
                        "type": "scattergeo"
                      }
                    ],
                    "scattergl": [
                      {
                        "marker": {
                          "colorbar": {
                            "outlinewidth": 0,
                            "ticks": ""
                          }
                        },
                        "type": "scattergl"
                      }
                    ],
                    "scattermapbox": [
                      {
                        "marker": {
                          "colorbar": {
                            "outlinewidth": 0,
                            "ticks": ""
                          }
                        },
                        "type": "scattermapbox"
                      }
                    ],
                    "scatterpolar": [
                      {
                        "marker": {
                          "colorbar": {
                            "outlinewidth": 0,
                            "ticks": ""
                          }
                        },
                        "type": "scatterpolar"
                      }
                    ],
                    "scatterpolargl": [
                      {
                        "marker": {
                          "colorbar": {
                            "outlinewidth": 0,
                            "ticks": ""
                          }
                        },
                        "type": "scatterpolargl"
                      }
                    ],
                    "scatterternary": [
                      {
                        "marker": {
                          "colorbar": {
                            "outlinewidth": 0,
                            "ticks": ""
                          }
                        },
                        "type": "scatterternary"
                      }
                    ],
                    "surface": [
                      {
                        "colorbar": {
                          "outlinewidth": 0,
                          "ticks": ""
                        },
                        "colorscale": [
                          [
                            0,
                            "#0d0887"
                          ],
                          [
                            0.1111111111111111,
                            "#46039f"
                          ],
                          [
                            0.2222222222222222,
                            "#7201a8"
                          ],
                          [
                            0.3333333333333333,
                            "#9c179e"
                          ],
                          [
                            0.4444444444444444,
                            "#bd3786"
                          ],
                          [
                            0.5555555555555556,
                            "#d8576b"
                          ],
                          [
                            0.6666666666666666,
                            "#ed7953"
                          ],
                          [
                            0.7777777777777778,
                            "#fb9f3a"
                          ],
                          [
                            0.8888888888888888,
                            "#fdca26"
                          ],
                          [
                            1,
                            "#f0f921"
                          ]
                        ],
                        "type": "surface"
                      }
                    ],
                    "table": [
                      {
                        "cells": {
                          "fill": {
                            "color": "#EBF0F8"
                          },
                          "line": {
                            "color": "white"
                          }
                        },
                        "header": {
                          "fill": {
                            "color": "#C8D4E3"
                          },
                          "line": {
                            "color": "white"
                          }
                        },
                        "type": "table"
                      }
                    ]
                  },
                  "layout": {
                    "annotationdefaults": {
                      "arrowcolor": "#2a3f5f",
                      "arrowhead": 0,
                      "arrowwidth": 1
                    },
                    "autotypenumbers": "strict",
                    "coloraxis": {
                      "colorbar": {
                        "outlinewidth": 0,
                        "ticks": ""
                      }
                    },
                    "colorscale": {
                      "diverging": [
                        [
                          0,
                          "#8e0152"
                        ],
                        [
                          0.1,
                          "#c51b7d"
                        ],
                        [
                          0.2,
                          "#de77ae"
                        ],
                        [
                          0.3,
                          "#f1b6da"
                        ],
                        [
                          0.4,
                          "#fde0ef"
                        ],
                        [
                          0.5,
                          "#f7f7f7"
                        ],
                        [
                          0.6,
                          "#e6f5d0"
                        ],
                        [
                          0.7,
                          "#b8e186"
                        ],
                        [
                          0.8,
                          "#7fbc41"
                        ],
                        [
                          0.9,
                          "#4d9221"
                        ],
                        [
                          1,
                          "#276419"
                        ]
                      ],
                      "sequential": [
                        [
                          0,
                          "#0d0887"
                        ],
                        [
                          0.1111111111111111,
                          "#46039f"
                        ],
                        [
                          0.2222222222222222,
                          "#7201a8"
                        ],
                        [
                          0.3333333333333333,
                          "#9c179e"
                        ],
                        [
                          0.4444444444444444,
                          "#bd3786"
                        ],
                        [
                          0.5555555555555556,
                          "#d8576b"
                        ],
                        [
                          0.6666666666666666,
                          "#ed7953"
                        ],
                        [
                          0.7777777777777778,
                          "#fb9f3a"
                        ],
                        [
                          0.8888888888888888,
                          "#fdca26"
                        ],
                        [
                          1,
                          "#f0f921"
                        ]
                      ],
                      "sequentialminus": [
                        [
                          0,
                          "#0d0887"
                        ],
                        [
                          0.1111111111111111,
                          "#46039f"
                        ],
                        [
                          0.2222222222222222,
                          "#7201a8"
                        ],
                        [
                          0.3333333333333333,
                          "#9c179e"
                        ],
                        [
                          0.4444444444444444,
                          "#bd3786"
                        ],
                        [
                          0.5555555555555556,
                          "#d8576b"
                        ],
                        [
                          0.6666666666666666,
                          "#ed7953"
                        ],
                        [
                          0.7777777777777778,
                          "#fb9f3a"
                        ],
                        [
                          0.8888888888888888,
                          "#fdca26"
                        ],
                        [
                          1,
                          "#f0f921"
                        ]
                      ]
                    },
                    "colorway": [
                      "#636efa",
                      "#EF553B",
                      "#00cc96",
                      "#ab63fa",
                      "#FFA15A",
                      "#19d3f3",
                      "#FF6692",
                      "#B6E880",
                      "#FF97FF",
                      "#FECB52"
                    ],
                    "font": {
                      "color": "#2a3f5f"
                    },
                    "geo": {
                      "bgcolor": "white",
                      "lakecolor": "white",
                      "landcolor": "#E5ECF6",
                      "showlakes": true,
                      "showland": true,
                      "subunitcolor": "white"
                    },
                    "hoverlabel": {
                      "align": "left"
                    },
                    "hovermode": "closest",
                    "mapbox": {
                      "style": "light"
                    },
                    "paper_bgcolor": "white",
                    "plot_bgcolor": "#E5ECF6",
                    "polar": {
                      "angularaxis": {
                        "gridcolor": "white",
                        "linecolor": "white",
                        "ticks": ""
                      },
                      "bgcolor": "#E5ECF6",
                      "radialaxis": {
                        "gridcolor": "white",
                        "linecolor": "white",
                        "ticks": ""
                      }
                    },
                    "scene": {
                      "xaxis": {
                        "backgroundcolor": "#E5ECF6",
                        "gridcolor": "white",
                        "gridwidth": 2,
                        "linecolor": "white",
                        "showbackground": true,
                        "ticks": "",
                        "zerolinecolor": "white"
                      },
                      "yaxis": {
                        "backgroundcolor": "#E5ECF6",
                        "gridcolor": "white",
                        "gridwidth": 2,
                        "linecolor": "white",
                        "showbackground": true,
                        "ticks": "",
                        "zerolinecolor": "white"
                      },
                      "zaxis": {
                        "backgroundcolor": "#E5ECF6",
                        "gridcolor": "white",
                        "gridwidth": 2,
                        "linecolor": "white",
                        "showbackground": true,
                        "ticks": "",
                        "zerolinecolor": "white"
                      }
                    },
                    "shapedefaults": {
                      "line": {
                        "color": "#2a3f5f"
                      }
                    },
                    "ternary": {
                      "aaxis": {
                        "gridcolor": "white",
                        "linecolor": "white",
                        "ticks": ""
                      },
                      "baxis": {
                        "gridcolor": "white",
                        "linecolor": "white",
                        "ticks": ""
                      },
                      "bgcolor": "#E5ECF6",
                      "caxis": {
                        "gridcolor": "white",
                        "linecolor": "white",
                        "ticks": ""
                      }
                    },
                    "title": {
                      "x": 0.05
                    },
                    "xaxis": {
                      "automargin": true,
                      "gridcolor": "white",
                      "linecolor": "white",
                      "ticks": "",
                      "title": {
                        "standoff": 15
                      },
                      "zerolinecolor": "white",
                      "zerolinewidth": 2
                    },
                    "yaxis": {
                      "automargin": true,
                      "gridcolor": "white",
                      "linecolor": "white",
                      "ticks": "",
                      "title": {
                        "standoff": 15
                      },
                      "zerolinecolor": "white",
                      "zerolinewidth": 2
                    }
                  }
                },
                "title": {
                  "text": "MCA: Variable Plot"
                },
                "xaxis": {
                  "anchor": "y",
                  "domain": [
                    0,
                    1
                  ],
                  "title": {
                    "text": "Component 1"
                  }
                },
                "yaxis": {
                  "anchor": "x",
                  "domain": [
                    0,
                    1
                  ],
                  "title": {
                    "text": "Component 2"
                  }
                }
              }
            }
          },
          "metadata": {},
          "output_type": "display_data"
        }
      ],
      "source": [
        "\n",
        "# get coordinates of each feature in the MCA plot\n",
        "variables_coordinates = mca.column_coordinates(x_train)\n",
        "\n",
        "# Create a Plotly scatter plot with legend\n",
        "fig = px.scatter(variables_coordinates, x=0, y=1, color=variables_coordinates.index)\n",
        "\n",
        "# Update layout\n",
        "fig.update_layout(title='MCA: Variable Plot', xaxis_title='Component 1', yaxis_title='Component 2')\n",
        "\n",
        "# Show the plot\n",
        "fig.show()"
      ]
    },
    {
      "cell_type": "code",
      "execution_count": 12,
      "metadata": {
        "id": "BZSgt8zPWyo-"
      },
      "outputs": [],
      "source": [
        "x_train_mca = mca.fit_transform(x_train) #fit and trainsform train data\n",
        "x_val_mca = mca.transform(x_val) #trainsform validation data with same model"
      ]
    },
    {
      "cell_type": "markdown",
      "metadata": {
        "id": "vF4mCmYIhplt"
      },
      "source": [
        "## **KNN**"
      ]
    },
    {
      "cell_type": "markdown",
      "metadata": {
        "id": "WKD3gjs64B94"
      },
      "source": [
        "For the KNN model, we used the preprocessed MCA output to improve accuracy.\n",
        "KNN is a supervised learning algorithm, where K is the number of nearest neighbors, as opposed to the number of clusters in k means. We tested three different values for k and got these three predictions.\n",
        "K=10, accuracy: 0.27\n",
        "K=5, accuracy: 0.25\n",
        "K=3, accuracy: 0.24"
      ]
    },
    {
      "cell_type": "code",
      "execution_count": 20,
      "metadata": {
        "colab": {
          "base_uri": "https://localhost:8080/",
          "height": 736
        },
        "id": "iXPVDQcJh4nc",
        "outputId": "d0e8fa0d-bc07-431f-d739-e75b0022be5d"
      },
      "outputs": [
        {
          "data": {
            "image/png": "[encoded data removed]",
            "text/plain": [
              "<Figure size 1000x800 with 2 Axes>"
            ]
          },
          "metadata": {},
          "output_type": "display_data"
        },
        {
          "name": "stdout",
          "output_type": "stream",
          "text": [
            "Accuracy: 0.2746478873239437\n"
          ]
        }
      ],
      "source": [
        "#train the KNN model\n",
        "knn = KNeighborsClassifier(n_neighbors=10)\n",
        "#arbitrarily tested values to find optimal k\n",
        "knn.fit(x_train_mca, y_train)\n",
        "\n",
        "#make predictions on the test data\n",
        "y_pred_knn = knn.predict(x_val_mca)\n",
        "\n",
        "#confusion matrix\n",
        "conf_matrix = confusion_matrix(y_val, y_pred_knn)\n",
        "plt.figure(figsize=(10, 8))\n",
        "#fmt=d for annotation, cmap=Blues for blue hue\n",
        "sns.heatmap(conf_matrix, annot=True, fmt=\"d\", cmap=\"Blues\")\n",
        "plt.xlabel(\"Predicted labels\")\n",
        "plt.ylabel(\"True labels\")\n",
        "plt.title(\"Confusion Matrix\")\n",
        "plt.show()\n",
        "\n",
        "#calculate accuracy\n",
        "accuracy = accuracy_score(y_val, y_pred_knn)\n",
        "print(\"Accuracy:\", accuracy)"
      ]
    },
    {
      "cell_type": "code",
      "execution_count": 14,
      "metadata": {
        "colab": {
          "base_uri": "https://localhost:8080/",
          "height": 81
        },
        "id": "4ab2yOIKpVkl",
        "outputId": "b332800d-fc34-4df6-de41-aeb5eb14c0ee"
      },
      "outputs": [
        {
          "data": {
            "text/html": [
              "<div>\n",
              "<style scoped>\n",
              "    .dataframe tbody tr th:only-of-type {\n",
              "        vertical-align: middle;\n",
              "    }\n",
              "\n",
              "    .dataframe tbody tr th {\n",
              "        vertical-align: top;\n",
              "    }\n",
              "\n",
              "    .dataframe thead th {\n",
              "        text-align: right;\n",
              "    }\n",
              "</style>\n",
              "<table border=\"1\" class=\"dataframe\">\n",
              "  <thead>\n",
              "    <tr style=\"text-align: right;\">\n",
              "      <th></th>\n",
              "      <th>Chikungunya</th>\n",
              "      <th>Dengue</th>\n",
              "      <th>Japanese_encephalitis</th>\n",
              "      <th>Lyme_disease</th>\n",
              "      <th>Malaria</th>\n",
              "      <th>Plague</th>\n",
              "      <th>Rift_Valley_fever</th>\n",
              "      <th>Tungiasis</th>\n",
              "      <th>West_Nile_fever</th>\n",
              "      <th>Yellow_Fever</th>\n",
              "      <th>Zika</th>\n",
              "    </tr>\n",
              "  </thead>\n",
              "  <tbody>\n",
              "    <tr>\n",
              "      <th>0</th>\n",
              "      <td>0</td>\n",
              "      <td>1</td>\n",
              "      <td>2</td>\n",
              "      <td>3</td>\n",
              "      <td>4</td>\n",
              "      <td>5</td>\n",
              "      <td>6</td>\n",
              "      <td>7</td>\n",
              "      <td>8</td>\n",
              "      <td>9</td>\n",
              "      <td>10</td>\n",
              "    </tr>\n",
              "  </tbody>\n",
              "</table>\n",
              "</div>"
            ],
            "text/plain": [
              "   Chikungunya  Dengue  Japanese_encephalitis  Lyme_disease  Malaria  Plague  \\\n",
              "0            0       1                      2             3        4       5   \n",
              "\n",
              "   Rift_Valley_fever  Tungiasis  West_Nile_fever  Yellow_Fever  Zika  \n",
              "0                  6          7                8             9    10  "
            ]
          },
          "execution_count": 14,
          "metadata": {},
          "output_type": "execute_result"
        }
      ],
      "source": [
        "#encoding key to cross reference with confusion matrix\n",
        "encoding_key"
      ]
    },
    {
      "cell_type": "markdown",
      "metadata": {
        "id": "8UsfQqnSiPaj"
      },
      "source": [
        "## **Light GBM Model**\n",
        "- LightGBM uses tree-based learning algorithms using gradient boosting. It uses decision trees, which recursively partition the data into subsets based on the features values and each node of the tree represents a prediction value. LightGBM is different than a simple decision tree becayse it uses leaf-wise growth strategy for building tree, which is selecting the leaf that reduces loss the most."
      ]
    },
    {
      "cell_type": "code",
      "execution_count": 21,
      "metadata": {
        "id": "bkbV8uqYiQ0F"
      },
      "outputs": [],
      "source": [
        "##set model parameters\n",
        "params={}\n",
        "params['learning_rate']=0.01\n",
        "params['boosting_type']='gbdt' #GradientBoostingDecisionTree\n",
        "params['objective']='multiclass' #Multi-class target feature\n",
        "params['metric']='multi_logloss' #metric for multi-class\n",
        "params['max_depth']=7\n",
        "params['num_class']=11 #no.of unique values in the target class not inclusive of the end value\n",
        "params['verbose']=-1\n",
        "\n",
        "#convert data into LGB format\n",
        "d_train=lgb.Dataset(x_train_mca, label=y_train)\n",
        "#d_train=lgb.Dataset(x_train, label=y_train)\n",
        "\n",
        "#training the model\n",
        "clf=lgb.train(params,d_train,500)  #training the model on 2,000 epocs\n",
        "\n",
        "\n",
        "#prediction on the validation dataset\n",
        "#for each ID, predicts probablity of each disease type\n",
        "y_pred_1=clf.predict(x_val_mca)\n",
        "#shape = (# of IDs, # of disease classifications - 11)"
      ]
    },
    {
      "cell_type": "markdown",
      "metadata": {
        "id": "P0Irg5fHxLJo"
      },
      "source": [
        "### MAP@k (Mean Average Precision at k)\n",
        "- I used a MAP@K score ( to evaluate the Light GBM model since it gives likelihood of the patient having each prognosis, instead of just choosing one. Therefore, I wanted to get the top 3 prognoses.\n",
        "\n",
        "After taking in the top 3 prognoses, MAP@K calculates the precision at each position in the list of recommendations, considering how accurate that prediction at that rank is. Then it calculates the average precision by taking the mean of the precisions at each position up to k or 3 in this case.\n",
        "Then it calculates the mean of the average precisions across all instances.\n",
        "\n",
        "\n"
      ]
    },
    {
      "cell_type": "code",
      "execution_count": 22,
      "metadata": {
        "id": "roQTLwd6WOu6"
      },
      "outputs": [],
      "source": [
        "def apk(actual, predicted, k=11):\n",
        "    \"\"\"\n",
        "    Computes the average precision at k. Used to evaluate LightGBM model.\n",
        "    This function computes the average prescision at k between two lists of\n",
        "    items.\n",
        "    Parameters\n",
        "    ----------\n",
        "    actual : list\n",
        "             A list of elements that are to be predicted (order doesn't matter)\n",
        "    predicted : list\n",
        "                A list of predicted elements (order does matter)\n",
        "    k : int, optional\n",
        "        The maximum number of predicted elements\n",
        "    Returns\n",
        "    -------\n",
        "    score : double\n",
        "            The average precision at k over the input lists\n",
        "    \"\"\"\n",
        "    if not actual:\n",
        "        return 0.0\n",
        "\n",
        "    if len(predicted)>=k:\n",
        "        predicted = predicted[:k]\n",
        "\n",
        "    score = 0.0\n",
        "    num_hits = 0.0\n",
        "\n",
        "    for i,p in enumerate(predicted):\n",
        "        # first condition checks whether it is valid prediction\n",
        "        # second condition checks if prediction is not repeated\n",
        "        if p in actual and p not in predicted[:i]:\n",
        "            num_hits += 1.0\n",
        "            score += num_hits / (i+1.0)\n",
        "\n",
        "    return score / min(len(actual), k)\n",
        "\n",
        "def mapk(actual, predicted, k=11):\n",
        "    \"\"\"\n",
        "    Computes the mean average precision at k.\n",
        "    This function computes the mean average prescision at k between two lists\n",
        "    of lists of items.\n",
        "    Parameters\n",
        "    ----------\n",
        "    actual : list\n",
        "             A list of lists of elements that are to be predicted\n",
        "             (order doesn't matter in the lists)\n",
        "    predicted : list\n",
        "                A list of lists of predicted elements\n",
        "                (order matters in the lists)\n",
        "    k : int, optional\n",
        "        The maximum number of predicted elements\n",
        "    Returns\n",
        "    -------\n",
        "    score : double\n",
        "            The mean average precision at k over the input lists\n",
        "    \"\"\"\n",
        "    return np.mean([apk(a,p,k) for a,p in zip(actual, predicted)])"
      ]
    },
    {
      "cell_type": "markdown",
      "metadata": {
        "id": "-IRVD87_lYb0"
      },
      "source": [
        "## Accuracy Testing for LightGBM on Validation Data"
      ]
    },
    {
      "cell_type": "code",
      "execution_count": null,
      "metadata": {
        "id": "b3z5PVfs63ym"
      },
      "outputs": [],
      "source": []
    },
    {
      "cell_type": "code",
      "execution_count": 23,
      "metadata": {
        "colab": {
          "base_uri": "https://localhost:8080/"
        },
        "id": "uP63y_5ULx5R",
        "outputId": "714291ad-2638-4b39-9248-c79bb085f0ab"
      },
      "outputs": [
        {
          "data": {
            "text/plain": [
              "(142, 3)"
            ]
          },
          "execution_count": 23,
          "metadata": {},
          "output_type": "execute_result"
        }
      ],
      "source": [
        "#gets top 3 prognoses for each ID\n",
        "top_3 = np.argsort(-y_pred_1, axis=1)[:,:3]\n",
        "top_3.shape"
      ]
    },
    {
      "cell_type": "code",
      "execution_count": 24,
      "metadata": {
        "colab": {
          "base_uri": "https://localhost:8080/"
        },
        "id": "_ouiPw7lL1aP",
        "outputId": "c4b31d1e-ede4-4431-a77d-36c334193a12"
      },
      "outputs": [
        {
          "name": "stdout",
          "output_type": "stream",
          "text": [
            "map@k score is 0.38262910798122074\n"
          ]
        }
      ],
      "source": [
        "top_3_val_names = le.inverse_transform(top_3.flatten()).reshape(-1,3) #flatten top_3 from (142,3) to 1D array to work with le.inverse_transform(), then reshape back to (142,3)\n",
        "y_val_names = le.inverse_transform(y_val).reshape(-1,1) #reshape so that each true prognosis is its own list\n",
        "\n",
        "#map@k using written labels\n",
        "map_score = mapk(y_val_names,top_3_val_names, k=3 ) #calulate map@k score using true prognonis, top 3 predicted prognosis(in order of most to least likely), and 3 is for the number of predictions\n",
        "print(f'map@k score is {map_score}')"
      ]
    },
    {
      "cell_type": "code",
      "execution_count": 25,
      "metadata": {
        "id": "pEqZx9kkQYXp"
      },
      "outputs": [],
      "source": [
        "#put results of validation testing into a dataframe\n",
        "val_results = pd.DataFrame(top_3_val_names,columns = [\"Diagnosis 1\", \"Diagnosis 2\",\"Diagnosis 3\"])\n",
        "val_results[\"True Prognosis\"] = y_val_names"
      ]
    },
    {
      "cell_type": "code",
      "execution_count": 26,
      "metadata": {
        "colab": {
          "base_uri": "https://localhost:8080/",
          "height": 424
        },
        "id": "9DwgxpORQndD",
        "outputId": "e2d91064-fcce-4e3f-9808-779e4f256f63"
      },
      "outputs": [
        {
          "data": {
            "text/html": [
              "<div>\n",
              "<style scoped>\n",
              "    .dataframe tbody tr th:only-of-type {\n",
              "        vertical-align: middle;\n",
              "    }\n",
              "\n",
              "    .dataframe tbody tr th {\n",
              "        vertical-align: top;\n",
              "    }\n",
              "\n",
              "    .dataframe thead th {\n",
              "        text-align: right;\n",
              "    }\n",
              "</style>\n",
              "<table border=\"1\" class=\"dataframe\">\n",
              "  <thead>\n",
              "    <tr style=\"text-align: right;\">\n",
              "      <th></th>\n",
              "      <th>Diagnosis 1</th>\n",
              "      <th>Diagnosis 2</th>\n",
              "      <th>Diagnosis 3</th>\n",
              "      <th>True Prognosis</th>\n",
              "    </tr>\n",
              "  </thead>\n",
              "  <tbody>\n",
              "    <tr>\n",
              "      <th>0</th>\n",
              "      <td>Japanese_encephalitis</td>\n",
              "      <td>Dengue</td>\n",
              "      <td>Rift_Valley_fever</td>\n",
              "      <td>Dengue</td>\n",
              "    </tr>\n",
              "    <tr>\n",
              "      <th>1</th>\n",
              "      <td>West_Nile_fever</td>\n",
              "      <td>Rift_Valley_fever</td>\n",
              "      <td>Tungiasis</td>\n",
              "      <td>West_Nile_fever</td>\n",
              "    </tr>\n",
              "    <tr>\n",
              "      <th>2</th>\n",
              "      <td>Dengue</td>\n",
              "      <td>West_Nile_fever</td>\n",
              "      <td>Rift_Valley_fever</td>\n",
              "      <td>West_Nile_fever</td>\n",
              "    </tr>\n",
              "    <tr>\n",
              "      <th>3</th>\n",
              "      <td>Japanese_encephalitis</td>\n",
              "      <td>Plague</td>\n",
              "      <td>Yellow_Fever</td>\n",
              "      <td>Japanese_encephalitis</td>\n",
              "    </tr>\n",
              "    <tr>\n",
              "      <th>4</th>\n",
              "      <td>Tungiasis</td>\n",
              "      <td>Dengue</td>\n",
              "      <td>Rift_Valley_fever</td>\n",
              "      <td>Rift_Valley_fever</td>\n",
              "    </tr>\n",
              "    <tr>\n",
              "      <th>...</th>\n",
              "      <td>...</td>\n",
              "      <td>...</td>\n",
              "      <td>...</td>\n",
              "      <td>...</td>\n",
              "    </tr>\n",
              "    <tr>\n",
              "      <th>137</th>\n",
              "      <td>Chikungunya</td>\n",
              "      <td>Dengue</td>\n",
              "      <td>Japanese_encephalitis</td>\n",
              "      <td>Chikungunya</td>\n",
              "    </tr>\n",
              "    <tr>\n",
              "      <th>138</th>\n",
              "      <td>West_Nile_fever</td>\n",
              "      <td>Lyme_disease</td>\n",
              "      <td>Japanese_encephalitis</td>\n",
              "      <td>Plague</td>\n",
              "    </tr>\n",
              "    <tr>\n",
              "      <th>139</th>\n",
              "      <td>Plague</td>\n",
              "      <td>West_Nile_fever</td>\n",
              "      <td>Tungiasis</td>\n",
              "      <td>West_Nile_fever</td>\n",
              "    </tr>\n",
              "    <tr>\n",
              "      <th>140</th>\n",
              "      <td>Tungiasis</td>\n",
              "      <td>Dengue</td>\n",
              "      <td>Rift_Valley_fever</td>\n",
              "      <td>Tungiasis</td>\n",
              "    </tr>\n",
              "    <tr>\n",
              "      <th>141</th>\n",
              "      <td>West_Nile_fever</td>\n",
              "      <td>Japanese_encephalitis</td>\n",
              "      <td>Zika</td>\n",
              "      <td>Lyme_disease</td>\n",
              "    </tr>\n",
              "  </tbody>\n",
              "</table>\n",
              "<p>142 rows × 4 columns</p>\n",
              "</div>"
            ],
            "text/plain": [
              "               Diagnosis 1            Diagnosis 2            Diagnosis 3  \\\n",
              "0    Japanese_encephalitis                 Dengue      Rift_Valley_fever   \n",
              "1          West_Nile_fever      Rift_Valley_fever              Tungiasis   \n",
              "2                   Dengue        West_Nile_fever      Rift_Valley_fever   \n",
              "3    Japanese_encephalitis                 Plague           Yellow_Fever   \n",
              "4                Tungiasis                 Dengue      Rift_Valley_fever   \n",
              "..                     ...                    ...                    ...   \n",
              "137            Chikungunya                 Dengue  Japanese_encephalitis   \n",
              "138        West_Nile_fever           Lyme_disease  Japanese_encephalitis   \n",
              "139                 Plague        West_Nile_fever              Tungiasis   \n",
              "140              Tungiasis                 Dengue      Rift_Valley_fever   \n",
              "141        West_Nile_fever  Japanese_encephalitis                   Zika   \n",
              "\n",
              "            True Prognosis  \n",
              "0                   Dengue  \n",
              "1          West_Nile_fever  \n",
              "2          West_Nile_fever  \n",
              "3    Japanese_encephalitis  \n",
              "4        Rift_Valley_fever  \n",
              "..                     ...  \n",
              "137            Chikungunya  \n",
              "138                 Plague  \n",
              "139        West_Nile_fever  \n",
              "140              Tungiasis  \n",
              "141           Lyme_disease  \n",
              "\n",
              "[142 rows x 4 columns]"
            ]
          },
          "execution_count": 26,
          "metadata": {},
          "output_type": "execute_result"
        }
      ],
      "source": [
        "val_results"
      ]
    },
    {
      "cell_type": "markdown",
      "metadata": {
        "id": "N5UCzE-EfpKP"
      },
      "source": [
        "## **Test Data**\n",
        "- This part uses the models trained and evaluated from before, and runs this on the test data with no y-values"
      ]
    },
    {
      "cell_type": "code",
      "execution_count": 27,
      "metadata": {
        "id": "8GEF_aphli5Y"
      },
      "outputs": [],
      "source": [
        "#mca transform test data\n",
        "x_test_mca = mca.transform(test)"
      ]
    },
    {
      "cell_type": "markdown",
      "metadata": {
        "id": "VC4eY_t9i1c_"
      },
      "source": [
        "## Light GBM"
      ]
    },
    {
      "cell_type": "code",
      "execution_count": 28,
      "metadata": {
        "colab": {
          "base_uri": "https://localhost:8080/",
          "height": 424
        },
        "id": "jo3hzVE4W0YQ",
        "outputId": "eecceffe-c1cf-4c65-df32-001bf09cf788"
      },
      "outputs": [
        {
          "data": {
            "text/html": [
              "<div>\n",
              "<style scoped>\n",
              "    .dataframe tbody tr th:only-of-type {\n",
              "        vertical-align: middle;\n",
              "    }\n",
              "\n",
              "    .dataframe tbody tr th {\n",
              "        vertical-align: top;\n",
              "    }\n",
              "\n",
              "    .dataframe thead th {\n",
              "        text-align: right;\n",
              "    }\n",
              "</style>\n",
              "<table border=\"1\" class=\"dataframe\">\n",
              "  <thead>\n",
              "    <tr style=\"text-align: right;\">\n",
              "      <th></th>\n",
              "      <th>ID</th>\n",
              "      <th>Diagnosis 1</th>\n",
              "      <th>Diagnosis 2</th>\n",
              "      <th>Diagnosis 3</th>\n",
              "    </tr>\n",
              "  </thead>\n",
              "  <tbody>\n",
              "    <tr>\n",
              "      <th>0</th>\n",
              "      <td>707</td>\n",
              "      <td>Japanese_encephalitis</td>\n",
              "      <td>Dengue</td>\n",
              "      <td>Rift_Valley_fever</td>\n",
              "    </tr>\n",
              "    <tr>\n",
              "      <th>1</th>\n",
              "      <td>708</td>\n",
              "      <td>West_Nile_fever</td>\n",
              "      <td>Rift_Valley_fever</td>\n",
              "      <td>Tungiasis</td>\n",
              "    </tr>\n",
              "    <tr>\n",
              "      <th>2</th>\n",
              "      <td>709</td>\n",
              "      <td>Dengue</td>\n",
              "      <td>West_Nile_fever</td>\n",
              "      <td>Rift_Valley_fever</td>\n",
              "    </tr>\n",
              "    <tr>\n",
              "      <th>3</th>\n",
              "      <td>710</td>\n",
              "      <td>Japanese_encephalitis</td>\n",
              "      <td>Plague</td>\n",
              "      <td>Yellow_Fever</td>\n",
              "    </tr>\n",
              "    <tr>\n",
              "      <th>4</th>\n",
              "      <td>711</td>\n",
              "      <td>Tungiasis</td>\n",
              "      <td>Dengue</td>\n",
              "      <td>Rift_Valley_fever</td>\n",
              "    </tr>\n",
              "    <tr>\n",
              "      <th>...</th>\n",
              "      <td>...</td>\n",
              "      <td>...</td>\n",
              "      <td>...</td>\n",
              "      <td>...</td>\n",
              "    </tr>\n",
              "    <tr>\n",
              "      <th>137</th>\n",
              "      <td>844</td>\n",
              "      <td>Chikungunya</td>\n",
              "      <td>Dengue</td>\n",
              "      <td>Japanese_encephalitis</td>\n",
              "    </tr>\n",
              "    <tr>\n",
              "      <th>138</th>\n",
              "      <td>845</td>\n",
              "      <td>West_Nile_fever</td>\n",
              "      <td>Lyme_disease</td>\n",
              "      <td>Japanese_encephalitis</td>\n",
              "    </tr>\n",
              "    <tr>\n",
              "      <th>139</th>\n",
              "      <td>846</td>\n",
              "      <td>Plague</td>\n",
              "      <td>West_Nile_fever</td>\n",
              "      <td>Tungiasis</td>\n",
              "    </tr>\n",
              "    <tr>\n",
              "      <th>140</th>\n",
              "      <td>847</td>\n",
              "      <td>Tungiasis</td>\n",
              "      <td>Dengue</td>\n",
              "      <td>Rift_Valley_fever</td>\n",
              "    </tr>\n",
              "    <tr>\n",
              "      <th>141</th>\n",
              "      <td>848</td>\n",
              "      <td>West_Nile_fever</td>\n",
              "      <td>Japanese_encephalitis</td>\n",
              "      <td>Zika</td>\n",
              "    </tr>\n",
              "  </tbody>\n",
              "</table>\n",
              "<p>142 rows × 4 columns</p>\n",
              "</div>"
            ],
            "text/plain": [
              "      ID            Diagnosis 1            Diagnosis 2            Diagnosis 3\n",
              "0    707  Japanese_encephalitis                 Dengue      Rift_Valley_fever\n",
              "1    708        West_Nile_fever      Rift_Valley_fever              Tungiasis\n",
              "2    709                 Dengue        West_Nile_fever      Rift_Valley_fever\n",
              "3    710  Japanese_encephalitis                 Plague           Yellow_Fever\n",
              "4    711              Tungiasis                 Dengue      Rift_Valley_fever\n",
              "..   ...                    ...                    ...                    ...\n",
              "137  844            Chikungunya                 Dengue  Japanese_encephalitis\n",
              "138  845        West_Nile_fever           Lyme_disease  Japanese_encephalitis\n",
              "139  846                 Plague        West_Nile_fever              Tungiasis\n",
              "140  847              Tungiasis                 Dengue      Rift_Valley_fever\n",
              "141  848        West_Nile_fever  Japanese_encephalitis                   Zika\n",
              "\n",
              "[142 rows x 4 columns]"
            ]
          },
          "execution_count": 28,
          "metadata": {},
          "output_type": "execute_result"
        }
      ],
      "source": [
        "#predict prognosis fo test data\n",
        "test_preds = clf.predict(x_val_mca)\n",
        "\n",
        "\n",
        "#get top 3 most likely prognosis\n",
        "top_3_test = np.argsort(-test_preds, axis=1)[:,:3]\n",
        "#transform from encoded to written prognosis\n",
        "top_3_test_names = le.inverse_transform(top_3_test.flatten()).reshape(-1,3)\n",
        "\n",
        "#turn predictions into data frame\n",
        "test_results = pd.DataFrame(top_3_test_names, columns = [\"Diagnosis 1\", \"Diagnosis 2\",\"Diagnosis 3\"])\n",
        "\n",
        "test_results.insert(loc=0, column='ID', value=test.id) #insert back IDs\n",
        "\n",
        "test_results"
      ]
    },
    {
      "cell_type": "code",
      "execution_count": 29,
      "metadata": {
        "id": "E60Z7-UllfiD"
      },
      "outputs": [],
      "source": [
        "y_pred_test_knn = knn.predict(x_test_mca) #use knn model to predict test data\n",
        "test_knn_names = le.inverse_transform(y_pred_test_knn) #inverse transform encoding into written prognosis\n",
        "knn_test_results = pd.DataFrame(test_knn_names, columns = [\"Knn Diagnosis\"]) #put results into data frame\n",
        "knn_test_results.insert(loc=0, column='ID', value=test.id) #insert back IDs"
      ]
    },
    {
      "cell_type": "code",
      "execution_count": 30,
      "metadata": {
        "colab": {
          "base_uri": "https://localhost:8080/",
          "height": 424
        },
        "id": "dvcU_bpKl7dp",
        "outputId": "4fbf4070-d198-4de5-cce7-cd41bfa5c949"
      },
      "outputs": [
        {
          "data": {
            "text/html": [
              "<div>\n",
              "<style scoped>\n",
              "    .dataframe tbody tr th:only-of-type {\n",
              "        vertical-align: middle;\n",
              "    }\n",
              "\n",
              "    .dataframe tbody tr th {\n",
              "        vertical-align: top;\n",
              "    }\n",
              "\n",
              "    .dataframe thead th {\n",
              "        text-align: right;\n",
              "    }\n",
              "</style>\n",
              "<table border=\"1\" class=\"dataframe\">\n",
              "  <thead>\n",
              "    <tr style=\"text-align: right;\">\n",
              "      <th></th>\n",
              "      <th>ID</th>\n",
              "      <th>Knn Diagnosis</th>\n",
              "    </tr>\n",
              "  </thead>\n",
              "  <tbody>\n",
              "    <tr>\n",
              "      <th>0</th>\n",
              "      <td>707</td>\n",
              "      <td>Dengue</td>\n",
              "    </tr>\n",
              "    <tr>\n",
              "      <th>1</th>\n",
              "      <td>708</td>\n",
              "      <td>Dengue</td>\n",
              "    </tr>\n",
              "    <tr>\n",
              "      <th>2</th>\n",
              "      <td>709</td>\n",
              "      <td>Lyme_disease</td>\n",
              "    </tr>\n",
              "    <tr>\n",
              "      <th>3</th>\n",
              "      <td>710</td>\n",
              "      <td>Dengue</td>\n",
              "    </tr>\n",
              "    <tr>\n",
              "      <th>4</th>\n",
              "      <td>711</td>\n",
              "      <td>Lyme_disease</td>\n",
              "    </tr>\n",
              "    <tr>\n",
              "      <th>...</th>\n",
              "      <td>...</td>\n",
              "      <td>...</td>\n",
              "    </tr>\n",
              "    <tr>\n",
              "      <th>298</th>\n",
              "      <td>1005</td>\n",
              "      <td>Malaria</td>\n",
              "    </tr>\n",
              "    <tr>\n",
              "      <th>299</th>\n",
              "      <td>1006</td>\n",
              "      <td>Malaria</td>\n",
              "    </tr>\n",
              "    <tr>\n",
              "      <th>300</th>\n",
              "      <td>1007</td>\n",
              "      <td>Lyme_disease</td>\n",
              "    </tr>\n",
              "    <tr>\n",
              "      <th>301</th>\n",
              "      <td>1008</td>\n",
              "      <td>Lyme_disease</td>\n",
              "    </tr>\n",
              "    <tr>\n",
              "      <th>302</th>\n",
              "      <td>1009</td>\n",
              "      <td>West_Nile_fever</td>\n",
              "    </tr>\n",
              "  </tbody>\n",
              "</table>\n",
              "<p>303 rows × 2 columns</p>\n",
              "</div>"
            ],
            "text/plain": [
              "       ID    Knn Diagnosis\n",
              "0     707           Dengue\n",
              "1     708           Dengue\n",
              "2     709     Lyme_disease\n",
              "3     710           Dengue\n",
              "4     711     Lyme_disease\n",
              "..    ...              ...\n",
              "298  1005          Malaria\n",
              "299  1006          Malaria\n",
              "300  1007     Lyme_disease\n",
              "301  1008     Lyme_disease\n",
              "302  1009  West_Nile_fever\n",
              "\n",
              "[303 rows x 2 columns]"
            ]
          },
          "execution_count": 30,
          "metadata": {},
          "output_type": "execute_result"
        }
      ],
      "source": [
        "knn_test_results"
      ]
    },
    {
      "cell_type": "code",
      "execution_count": null,
      "metadata": {
        "id": "KazZ2NyzqTuL"
      },
      "outputs": [],
      "source": []
    }
  ],
  "metadata": {
    "colab": {
      "provenance": []
    },
    "kernelspec": {
      "display_name": "Python 3",
      "name": "python3"
    },
    "language_info": {
      "codemirror_mode": {
        "name": "ipython",
        "version": 3
      },
      "file_extension": ".py",
      "mimetype": "text/x-python",
      "name": "python",
      "nbconvert_exporter": "python",
      "pygments_lexer": "ipython3",
      "version": "3.9.18"
    }
  },
  "nbformat": 4,
  "nbformat_minor": 0
}
